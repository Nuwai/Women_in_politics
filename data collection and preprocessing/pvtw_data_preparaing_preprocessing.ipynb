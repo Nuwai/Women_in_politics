{
 "cells": [
  {
   "cell_type": "code",
   "execution_count": 101,
   "metadata": {},
   "outputs": [],
   "source": [
    "import pandas as pd\n",
    "import numpy as np"
   ]
  },
  {
   "cell_type": "code",
   "execution_count": 102,
   "metadata": {},
   "outputs": [
    {
     "data": {
      "text/html": [
       "<div>\n",
       "<style scoped>\n",
       "    .dataframe tbody tr th:only-of-type {\n",
       "        vertical-align: middle;\n",
       "    }\n",
       "\n",
       "    .dataframe tbody tr th {\n",
       "        vertical-align: top;\n",
       "    }\n",
       "\n",
       "    .dataframe thead th {\n",
       "        text-align: right;\n",
       "    }\n",
       "</style>\n",
       "<table border=\"1\" class=\"dataframe\">\n",
       "  <thead>\n",
       "    <tr style=\"text-align: right;\">\n",
       "      <th></th>\n",
       "      <th>Year</th>\n",
       "      <th>Month</th>\n",
       "      <th>Country</th>\n",
       "      <th>Country Code</th>\n",
       "      <th>Region</th>\n",
       "      <th>Subregion</th>\n",
       "      <th>Lower Total Seat</th>\n",
       "      <th>Lower Total Women</th>\n",
       "      <th>Lower Chamber Women (%)</th>\n",
       "      <th>Upper Total Seat</th>\n",
       "      <th>Upper Total Women</th>\n",
       "      <th>Upper Chamber Women (%)</th>\n",
       "      <th>Rank</th>\n",
       "    </tr>\n",
       "  </thead>\n",
       "  <tbody>\n",
       "    <tr>\n",
       "      <th>0</th>\n",
       "      <td>1997</td>\n",
       "      <td>1</td>\n",
       "      <td>Sweden</td>\n",
       "      <td>SE</td>\n",
       "      <td>europe</td>\n",
       "      <td>nordic_countries</td>\n",
       "      <td>349.0</td>\n",
       "      <td>141.0</td>\n",
       "      <td>40.4</td>\n",
       "      <td>NaN</td>\n",
       "      <td>NaN</td>\n",
       "      <td>NaN</td>\n",
       "      <td>1.0</td>\n",
       "    </tr>\n",
       "    <tr>\n",
       "      <th>1</th>\n",
       "      <td>1997</td>\n",
       "      <td>1</td>\n",
       "      <td>Norway</td>\n",
       "      <td>NO</td>\n",
       "      <td>europe</td>\n",
       "      <td>nordic_countries</td>\n",
       "      <td>165.0</td>\n",
       "      <td>65.0</td>\n",
       "      <td>39.4</td>\n",
       "      <td>NaN</td>\n",
       "      <td>NaN</td>\n",
       "      <td>NaN</td>\n",
       "      <td>2.0</td>\n",
       "    </tr>\n",
       "    <tr>\n",
       "      <th>2</th>\n",
       "      <td>1997</td>\n",
       "      <td>1</td>\n",
       "      <td>Denmark</td>\n",
       "      <td>DK</td>\n",
       "      <td>europe</td>\n",
       "      <td>nordic_countries</td>\n",
       "      <td>179.0</td>\n",
       "      <td>60.0</td>\n",
       "      <td>33.5</td>\n",
       "      <td>NaN</td>\n",
       "      <td>NaN</td>\n",
       "      <td>NaN</td>\n",
       "      <td>3.0</td>\n",
       "    </tr>\n",
       "    <tr>\n",
       "      <th>3</th>\n",
       "      <td>1997</td>\n",
       "      <td>1</td>\n",
       "      <td>Finland</td>\n",
       "      <td>FI</td>\n",
       "      <td>europe</td>\n",
       "      <td>nordic_countries</td>\n",
       "      <td>200.0</td>\n",
       "      <td>67.0</td>\n",
       "      <td>33.5</td>\n",
       "      <td>NaN</td>\n",
       "      <td>NaN</td>\n",
       "      <td>NaN</td>\n",
       "      <td>3.0</td>\n",
       "    </tr>\n",
       "    <tr>\n",
       "      <th>4</th>\n",
       "      <td>1997</td>\n",
       "      <td>1</td>\n",
       "      <td>Netherlands</td>\n",
       "      <td>NL</td>\n",
       "      <td>europe</td>\n",
       "      <td>western_europe</td>\n",
       "      <td>150.0</td>\n",
       "      <td>49.0</td>\n",
       "      <td>32.7</td>\n",
       "      <td>75.0</td>\n",
       "      <td>17.0</td>\n",
       "      <td>22.7</td>\n",
       "      <td>5.0</td>\n",
       "    </tr>\n",
       "  </tbody>\n",
       "</table>\n",
       "</div>"
      ],
      "text/plain": [
       "   Year  Month      Country Country Code  Region         Subregion  \\\n",
       "0  1997      1       Sweden           SE  europe  nordic_countries   \n",
       "1  1997      1       Norway           NO  europe  nordic_countries   \n",
       "2  1997      1      Denmark           DK  europe  nordic_countries   \n",
       "3  1997      1      Finland           FI  europe  nordic_countries   \n",
       "4  1997      1  Netherlands           NL  europe    western_europe   \n",
       "\n",
       "   Lower Total Seat  Lower Total Women  Lower Chamber Women (%)  \\\n",
       "0             349.0              141.0                     40.4   \n",
       "1             165.0               65.0                     39.4   \n",
       "2             179.0               60.0                     33.5   \n",
       "3             200.0               67.0                     33.5   \n",
       "4             150.0               49.0                     32.7   \n",
       "\n",
       "   Upper Total Seat  Upper Total Women  Upper Chamber Women (%)  Rank  \n",
       "0               NaN                NaN                      NaN   1.0  \n",
       "1               NaN                NaN                      NaN   2.0  \n",
       "2               NaN                NaN                      NaN   3.0  \n",
       "3               NaN                NaN                      NaN   3.0  \n",
       "4              75.0               17.0                     22.7   5.0  "
      ]
     },
     "execution_count": 102,
     "metadata": {},
     "output_type": "execute_result"
    }
   ],
   "source": [
    "parliament = pd.read_csv('women_representation_1997_2025.csv')\n",
    "parliament.head()"
   ]
  },
  {
   "cell_type": "code",
   "execution_count": 103,
   "metadata": {},
   "outputs": [
    {
     "data": {
      "text/plain": [
       "(65234, 13)"
      ]
     },
     "execution_count": 103,
     "metadata": {},
     "output_type": "execute_result"
    }
   ],
   "source": [
    "parliament.shape"
   ]
  },
  {
   "cell_type": "code",
   "execution_count": 104,
   "metadata": {},
   "outputs": [
    {
     "name": "stderr",
     "output_type": "stream",
     "text": [
      "C:\\Users\\nuwai\\AppData\\Local\\Temp\\ipykernel_25188\\2044483690.py:1: DtypeWarning: Columns (3,6,11,13) have mixed types. Specify dtype option on import or set low_memory=False.\n",
      "  parliament_meta = pd.read_csv('ipu_wip_meta_data_1997_2025.csv')\n"
     ]
    },
    {
     "data": {
      "text/html": [
       "<div>\n",
       "<style scoped>\n",
       "    .dataframe tbody tr th:only-of-type {\n",
       "        vertical-align: middle;\n",
       "    }\n",
       "\n",
       "    .dataframe tbody tr th {\n",
       "        vertical-align: top;\n",
       "    }\n",
       "\n",
       "    .dataframe thead th {\n",
       "        text-align: right;\n",
       "    }\n",
       "</style>\n",
       "<table border=\"1\" class=\"dataframe\">\n",
       "  <thead>\n",
       "    <tr style=\"text-align: right;\">\n",
       "      <th></th>\n",
       "      <th>Year</th>\n",
       "      <th>Month</th>\n",
       "      <th>Country</th>\n",
       "      <th>Suspended Parliament</th>\n",
       "      <th>Structure of Parliament</th>\n",
       "      <th>Region</th>\n",
       "      <th>IPU Membership</th>\n",
       "      <th>Population in thousands</th>\n",
       "      <th>Men Number</th>\n",
       "      <th>Women Number</th>\n",
       "      <th>Women Percent</th>\n",
       "      <th>Political System</th>\n",
       "      <th>subregion</th>\n",
       "      <th>Transitional Status</th>\n",
       "      <th>gender_equality</th>\n",
       "      <th>themes</th>\n",
       "      <th>gender_quota</th>\n",
       "    </tr>\n",
       "  </thead>\n",
       "  <tbody>\n",
       "    <tr>\n",
       "      <th>0</th>\n",
       "      <td>1997</td>\n",
       "      <td>1</td>\n",
       "      <td>Afghanistan</td>\n",
       "      <td>False</td>\n",
       "      <td>bicameral</td>\n",
       "      <td>asia</td>\n",
       "      <td>False</td>\n",
       "      <td>NaN</td>\n",
       "      <td>NaN</td>\n",
       "      <td>NaN</td>\n",
       "      <td>NaN</td>\n",
       "      <td>NaN</td>\n",
       "      <td>south_asia</td>\n",
       "      <td>False</td>\n",
       "      <td>yes</td>\n",
       "      <td>NaN</td>\n",
       "      <td>No</td>\n",
       "    </tr>\n",
       "    <tr>\n",
       "      <th>1</th>\n",
       "      <td>1997</td>\n",
       "      <td>1</td>\n",
       "      <td>Afghanistan</td>\n",
       "      <td>False</td>\n",
       "      <td>bicameral</td>\n",
       "      <td>asia</td>\n",
       "      <td>False</td>\n",
       "      <td>NaN</td>\n",
       "      <td>NaN</td>\n",
       "      <td>NaN</td>\n",
       "      <td>NaN</td>\n",
       "      <td>NaN</td>\n",
       "      <td>south_asia</td>\n",
       "      <td>False</td>\n",
       "      <td>yes</td>\n",
       "      <td>NaN</td>\n",
       "      <td>No</td>\n",
       "    </tr>\n",
       "    <tr>\n",
       "      <th>2</th>\n",
       "      <td>1997</td>\n",
       "      <td>1</td>\n",
       "      <td>Afghanistan</td>\n",
       "      <td>False</td>\n",
       "      <td>bicameral</td>\n",
       "      <td>asia</td>\n",
       "      <td>False</td>\n",
       "      <td>NaN</td>\n",
       "      <td>NaN</td>\n",
       "      <td>NaN</td>\n",
       "      <td>NaN</td>\n",
       "      <td>NaN</td>\n",
       "      <td>south_asia</td>\n",
       "      <td>False</td>\n",
       "      <td>yes</td>\n",
       "      <td>NaN</td>\n",
       "      <td>No</td>\n",
       "    </tr>\n",
       "    <tr>\n",
       "      <th>3</th>\n",
       "      <td>1997</td>\n",
       "      <td>1</td>\n",
       "      <td>Afghanistan</td>\n",
       "      <td>False</td>\n",
       "      <td>bicameral</td>\n",
       "      <td>asia</td>\n",
       "      <td>False</td>\n",
       "      <td>NaN</td>\n",
       "      <td>NaN</td>\n",
       "      <td>NaN</td>\n",
       "      <td>NaN</td>\n",
       "      <td>NaN</td>\n",
       "      <td>south_asia</td>\n",
       "      <td>False</td>\n",
       "      <td>yes</td>\n",
       "      <td>NaN</td>\n",
       "      <td>No</td>\n",
       "    </tr>\n",
       "    <tr>\n",
       "      <th>4</th>\n",
       "      <td>1997</td>\n",
       "      <td>1</td>\n",
       "      <td>Afghanistan</td>\n",
       "      <td>False</td>\n",
       "      <td>bicameral</td>\n",
       "      <td>asia</td>\n",
       "      <td>False</td>\n",
       "      <td>NaN</td>\n",
       "      <td>NaN</td>\n",
       "      <td>NaN</td>\n",
       "      <td>NaN</td>\n",
       "      <td>NaN</td>\n",
       "      <td>south_asia</td>\n",
       "      <td>False</td>\n",
       "      <td>yes</td>\n",
       "      <td>NaN</td>\n",
       "      <td>No</td>\n",
       "    </tr>\n",
       "  </tbody>\n",
       "</table>\n",
       "</div>"
      ],
      "text/plain": [
       "   Year  Month      Country Suspended Parliament Structure of Parliament  \\\n",
       "0  1997      1  Afghanistan                False               bicameral   \n",
       "1  1997      1  Afghanistan                False               bicameral   \n",
       "2  1997      1  Afghanistan                False               bicameral   \n",
       "3  1997      1  Afghanistan                False               bicameral   \n",
       "4  1997      1  Afghanistan                False               bicameral   \n",
       "\n",
       "  Region IPU Membership  Population in thousands  Men Number  Women Number  \\\n",
       "0   asia          False                      NaN         NaN           NaN   \n",
       "1   asia          False                      NaN         NaN           NaN   \n",
       "2   asia          False                      NaN         NaN           NaN   \n",
       "3   asia          False                      NaN         NaN           NaN   \n",
       "4   asia          False                      NaN         NaN           NaN   \n",
       "\n",
       "   Women Percent Political System   subregion Transitional Status  \\\n",
       "0            NaN              NaN  south_asia               False   \n",
       "1            NaN              NaN  south_asia               False   \n",
       "2            NaN              NaN  south_asia               False   \n",
       "3            NaN              NaN  south_asia               False   \n",
       "4            NaN              NaN  south_asia               False   \n",
       "\n",
       "  gender_equality themes gender_quota  \n",
       "0             yes    NaN           No  \n",
       "1             yes    NaN           No  \n",
       "2             yes    NaN           No  \n",
       "3             yes    NaN           No  \n",
       "4             yes    NaN           No  "
      ]
     },
     "execution_count": 104,
     "metadata": {},
     "output_type": "execute_result"
    }
   ],
   "source": [
    "parliament_meta = pd.read_csv('ipu_wip_meta_data_1997_2025.csv')\n",
    "parliament_meta.head()"
   ]
  },
  {
   "cell_type": "code",
   "execution_count": 105,
   "metadata": {},
   "outputs": [
    {
     "name": "stdout",
     "output_type": "stream",
     "text": [
      "{'Brunei Darussalam', 'Antigua and Barbuda', 'Yemen', 'Venezuela (Bolivarian Republic of)', 'Saint Kitts and Nevis', 'Guinea-Bissau', 'Saint Lucia', 'Eritrea'}\n",
      "{'Swaziland', 'The former Yugoslav Republic of Macedonia', 'Czech Republic', 'Turkey'}\n"
     ]
    }
   ],
   "source": [
    "list1 = parliament['Country'].unique()\n",
    "list2 = parliament_meta['Country'].unique()\n",
    "missing_lsit1 = set(list1) - set(list2)\n",
    "missing_lsit2 = set(list2) - set(list1)\n",
    "\n",
    "print(missing_lsit1)\n",
    "print(missing_lsit2)"
   ]
  },
  {
   "cell_type": "code",
   "execution_count": 106,
   "metadata": {},
   "outputs": [
    {
     "name": "stderr",
     "output_type": "stream",
     "text": [
      "C:\\Users\\nuwai\\AppData\\Local\\Temp\\ipykernel_25188\\1422975894.py:6: FutureWarning: A value is trying to be set on a copy of a DataFrame or Series through chained assignment using an inplace method.\n",
      "The behavior will change in pandas 3.0. This inplace method will never work because the intermediate object on which we are setting values always behaves as a copy.\n",
      "\n",
      "For example, when doing 'df[col].method(value, inplace=True)', try using 'df.method({col: value}, inplace=True)' or df[col] = df[col].method(value) instead, to perform the operation inplace on the original object.\n",
      "\n",
      "\n",
      "  parliament_meta['Country'].replace(country_map, inplace=True)\n"
     ]
    }
   ],
   "source": [
    "country_map = {\n",
    "    'Swaziland' : 'Switzerland',\n",
    "    'The former Yugoslav Republic of Macedonia' : 'North Macedonia',\n",
    "    'Czech Republic': 'Czechia',\n",
    "}\n",
    "parliament_meta['Country'].replace(country_map, inplace=True)"
   ]
  },
  {
   "cell_type": "code",
   "execution_count": 107,
   "metadata": {},
   "outputs": [
    {
     "data": {
      "text/plain": [
       "(423564, 27)"
      ]
     },
     "execution_count": 107,
     "metadata": {},
     "output_type": "execute_result"
    }
   ],
   "source": [
    "parliament_merged = parliament.merge(parliament_meta, on=['Year','Month','Country'],how='left', suffixes=(\"\",\"_meta\"))\n",
    "parliament_merged.shape"
   ]
  },
  {
   "cell_type": "code",
   "execution_count": 108,
   "metadata": {},
   "outputs": [],
   "source": [
    "# to ensure you keep the most informative row when duplicates exist\n",
    "parliament_merged['non_null_count'] = parliament_merged.notnull().sum(axis=1)\n",
    "parliament_merged = parliament_merged.sort_values(by=['Year', 'Month', 'Country', 'non_null_count'], ascending=[True, True, True, False])\n",
    "parliament_merged = parliament_merged.drop_duplicates(subset=['Year', 'Month', 'Country'], keep='first')\n",
    "parliament_merged = parliament_merged.drop(columns=['non_null_count'])  # Remove temp column"
   ]
  },
  {
   "cell_type": "code",
   "execution_count": 109,
   "metadata": {},
   "outputs": [
    {
     "data": {
      "text/plain": [
       "(65234, 27)"
      ]
     },
     "execution_count": 109,
     "metadata": {},
     "output_type": "execute_result"
    }
   ],
   "source": [
    "parliament_merged.shape"
   ]
  },
  {
   "cell_type": "code",
   "execution_count": 146,
   "metadata": {},
   "outputs": [],
   "source": [
    "def fillna_with_mode(columns_to_fill, merged_df):\n",
    "    \n",
    "    # Step 1: Group data by Year and Country to identify fully missing years\n",
    "    missing_years = (\n",
    "        merged_df.groupby([\"Year\", \"Country\"])[columns_to_fill]\n",
    "        .apply(lambda group: group.isna().all(axis=0).any())  # True if any column is fully NaN for the year and country\n",
    "        .reset_index(name=\"Whole_Year_Missing\")\n",
    "    )\n",
    "\n",
    "    # Step 2: Fill partial missing values for the same year and country\n",
    "    for col in columns_to_fill:\n",
    "        merged_df[col] = (\n",
    "            merged_df.groupby([\"Year\", \"Country\"])[col]\n",
    "            .transform(lambda group: group.fillna(group.mode().iloc[0] if not group.mode().empty else np.nan))\n",
    "        )\n",
    "\n",
    "    # Step 3: Fill completely missing years with mode for the country (ignoring year)\n",
    "    for index, row in missing_years.iterrows():\n",
    "        year, country, whole_year_missing = row[\"Year\"], row[\"Country\"], row[\"Whole_Year_Missing\"]\n",
    "        \n",
    "        if whole_year_missing:\n",
    "            # Get mode for the country across all years\n",
    "            country_mode_df = merged_df[merged_df[\"Country\"] == country][columns_to_fill].mode()\n",
    "\n",
    "            if not country_mode_df.empty:  # Check if mode exists\n",
    "                country_mode = country_mode_df.iloc[0]  # First mode if multiple\n",
    "                \n",
    "                # Fill missing values for the entire year\n",
    "                merged_df.loc[\n",
    "                    (merged_df[\"Year\"] == year) & (merged_df[\"Country\"] == country),\n",
    "                    columns_to_fill\n",
    "                ] = merged_df.loc[\n",
    "                    (merged_df[\"Year\"] == year) & (merged_df[\"Country\"] == country),\n",
    "                    columns_to_fill\n",
    "                ].fillna(country_mode)\n",
    "\n",
    "    return merged_df"
   ]
  },
  {
   "cell_type": "code",
   "execution_count": 121,
   "metadata": {},
   "outputs": [
    {
     "name": "stdout",
     "output_type": "stream",
     "text": [
      "<class 'pandas.core.frame.DataFrame'>\n",
      "Index: 65234 entries, 996 to 422814\n",
      "Data columns (total 27 columns):\n",
      " #   Column                   Non-Null Count  Dtype  \n",
      "---  ------                   --------------  -----  \n",
      " 0   Year                     65234 non-null  int64  \n",
      " 1   Month                    65234 non-null  int64  \n",
      " 2   Country                  65234 non-null  object \n",
      " 3   Country Code             64896 non-null  object \n",
      " 4   Region                   65234 non-null  object \n",
      " 5   Subregion                65234 non-null  object \n",
      " 6   Lower Total Seat         63567 non-null  float64\n",
      " 7   Lower Total Women        63298 non-null  float64\n",
      " 8   Lower Chamber Women (%)  63298 non-null  float64\n",
      " 9   Upper Total Seat         24381 non-null  float64\n",
      " 10  Upper Total Women        24373 non-null  float64\n",
      " 11  Upper Chamber Women (%)  24373 non-null  float64\n",
      " 12  Rank                     64555 non-null  float64\n",
      " 13  Suspended Parliament     61146 non-null  object \n",
      " 14  Structure of Parliament  61969 non-null  object \n",
      " 15  Region_meta              61969 non-null  object \n",
      " 16  IPU Membership           56789 non-null  object \n",
      " 17  Population in thousands  0 non-null      float64\n",
      " 18  Men Number               0 non-null      float64\n",
      " 19  Women Number             0 non-null      float64\n",
      " 20  Women Percent            0 non-null      float64\n",
      " 21  Political System         44401 non-null  object \n",
      " 22  subregion                61969 non-null  object \n",
      " 23  Transitional Status      61673 non-null  object \n",
      " 24  gender_equality          61969 non-null  object \n",
      " 25  themes                   61086 non-null  object \n",
      " 26  gender_quota             61969 non-null  object \n",
      "dtypes: float64(11), int64(2), object(14)\n",
      "memory usage: 13.9+ MB\n"
     ]
    }
   ],
   "source": [
    "parliament_merged.info()"
   ]
  },
  {
   "cell_type": "code",
   "execution_count": 122,
   "metadata": {},
   "outputs": [
    {
     "name": "stdout",
     "output_type": "stream",
     "text": [
      "Missing values in 'Lower Total Seat': 0\n",
      "Missing values in 'Lower Total Women': 0\n",
      "Missing values in 'Lower Chamber Women (%)': 0\n"
     ]
    }
   ],
   "source": [
    "#fill the missing value for lower chamber data for both unicameral and bicameral since all countries should have lower data\n",
    "columns_to_fill = ['Lower Total Seat','Lower Total Women', 'Lower Chamber Women (%)']\n",
    "parliament_merged = fillna_with_mode(columns_to_fill=columns_to_fill, merged_df=parliament_merged)\n",
    "\n",
    "# Check the number of missing values for each column after filling\n",
    "for col in columns_to_fill:\n",
    "    print(f\"Missing values in '{col}': {parliament_merged[col].isna().sum()}\")"
   ]
  },
  {
   "cell_type": "code",
   "execution_count": 123,
   "metadata": {},
   "outputs": [],
   "source": [
    "# Filter bicameral countries with missing Upper Chamber Women (%) data\n",
    "bicameral_missing = parliament_merged[\n",
    "    (parliament_merged['Structure of Parliament'] == 'bicameral') &\n",
    "    (parliament_merged['Upper Chamber Women (%)'].isna())]\n",
    "bicameral_upper_missing_data= bicameral_missing['Country'].unique()\n",
    "\n",
    "\n",
    "# Filter bicameral countries with missing Upper Chamber Women (%) data\n",
    "bicameral_missing_lower = parliament_merged[\n",
    "    (parliament_merged['Structure of Parliament'] == 'bicameral') &\n",
    "    (parliament_merged['Lower Chamber Women (%)'].isna())]\n",
    "bicamerl_lower_missing_data = bicameral_missing_lower['Country'].unique()\n",
    "\n",
    "# Filter unicameral countries with missing Upper Chamber Women (%) data\n",
    "unicameral_missing_lower = parliament_merged[\n",
    "    (parliament_merged['Structure of Parliament'] == 'unicameral') &\n",
    "    (parliament_merged['Lower Chamber Women (%)'].isna())]\n",
    "unicameral_lower_missing_data = unicameral_missing_lower['Country'].unique()\n"
   ]
  },
  {
   "cell_type": "code",
   "execution_count": 124,
   "metadata": {},
   "outputs": [
    {
     "name": "stderr",
     "output_type": "stream",
     "text": [
      "C:\\Users\\nuwai\\AppData\\Local\\Temp\\ipykernel_25188\\2642625223.py:12: SettingWithCopyWarning: \n",
      "A value is trying to be set on a copy of a slice from a DataFrame.\n",
      "Try using .loc[row_indexer,col_indexer] = value instead\n",
      "\n",
      "See the caveats in the documentation: https://pandas.pydata.org/pandas-docs/stable/user_guide/indexing.html#returning-a-view-versus-a-copy\n",
      "  merged_df[col] = (\n",
      "C:\\Users\\nuwai\\AppData\\Local\\Temp\\ipykernel_25188\\2642625223.py:12: SettingWithCopyWarning: \n",
      "A value is trying to be set on a copy of a slice from a DataFrame.\n",
      "Try using .loc[row_indexer,col_indexer] = value instead\n",
      "\n",
      "See the caveats in the documentation: https://pandas.pydata.org/pandas-docs/stable/user_guide/indexing.html#returning-a-view-versus-a-copy\n",
      "  merged_df[col] = (\n",
      "C:\\Users\\nuwai\\AppData\\Local\\Temp\\ipykernel_25188\\2642625223.py:12: SettingWithCopyWarning: \n",
      "A value is trying to be set on a copy of a slice from a DataFrame.\n",
      "Try using .loc[row_indexer,col_indexer] = value instead\n",
      "\n",
      "See the caveats in the documentation: https://pandas.pydata.org/pandas-docs/stable/user_guide/indexing.html#returning-a-view-versus-a-copy\n",
      "  merged_df[col] = (\n"
     ]
    },
    {
     "name": "stdout",
     "output_type": "stream",
     "text": [
      "Missing values in 'Upper Total Seat': 36894\n",
      "Missing values in 'Upper Total Women': 36894\n",
      "Missing values in 'Upper Chamber Women (%)': 36894\n"
     ]
    }
   ],
   "source": [
    "\"\"\"\n",
    "For unicameral country ,there should not have upper data, so fill with 0\n",
    "0  represents \"no upper chamber\" rather than true missingness\n",
    "\n",
    "For bicameral country, fill missing upper data with respective year,month data \n",
    "\"\"\"\n",
    "# Step 1: Filter merged_df to only include rows for the bicameral countries in the list\n",
    "filtered_df = parliament_merged[parliament_merged['Country'].isin(bicameral_upper_missing_data)]\n",
    "\n",
    "# Step 2: Apply the fillna_with_mode function for the desired columns\n",
    "columns_to_fill = ['Upper Total Seat','Upper Total Women','Upper Chamber Women (%)']\n",
    "\n",
    "# Apply the function to the filtered dataframe\n",
    "filtered_df = fillna_with_mode(columns_to_fill=columns_to_fill, merged_df=filtered_df)\n",
    "\n",
    "# Step 3: Update the original merged_df with the filled data from filtered_df\n",
    "parliament_merged.update(filtered_df)\n",
    "\n",
    "# Verify the missing values are filled\n",
    "for col in columns_to_fill:\n",
    "    print(f\"Missing values in '{col}': {parliament_merged[col].isna().sum()}\")"
   ]
  },
  {
   "cell_type": "code",
   "execution_count": 125,
   "metadata": {},
   "outputs": [
    {
     "name": "stdout",
     "output_type": "stream",
     "text": [
      "<class 'pandas.core.frame.DataFrame'>\n",
      "Index: 65234 entries, 996 to 422814\n",
      "Data columns (total 27 columns):\n",
      " #   Column                   Non-Null Count  Dtype  \n",
      "---  ------                   --------------  -----  \n",
      " 0   Year                     65234 non-null  int64  \n",
      " 1   Month                    65234 non-null  int64  \n",
      " 2   Country                  65234 non-null  object \n",
      " 3   Country Code             64896 non-null  object \n",
      " 4   Region                   65234 non-null  object \n",
      " 5   Subregion                65234 non-null  object \n",
      " 6   Lower Total Seat         65234 non-null  float64\n",
      " 7   Lower Total Women        65234 non-null  float64\n",
      " 8   Lower Chamber Women (%)  65234 non-null  float64\n",
      " 9   Upper Total Seat         28340 non-null  float64\n",
      " 10  Upper Total Women        28340 non-null  float64\n",
      " 11  Upper Chamber Women (%)  28340 non-null  float64\n",
      " 12  Rank                     64555 non-null  float64\n",
      " 13  Suspended Parliament     61146 non-null  object \n",
      " 14  Structure of Parliament  61969 non-null  object \n",
      " 15  Region_meta              61969 non-null  object \n",
      " 16  IPU Membership           56789 non-null  object \n",
      " 17  Population in thousands  0 non-null      float64\n",
      " 18  Men Number               0 non-null      float64\n",
      " 19  Women Number             0 non-null      float64\n",
      " 20  Women Percent            0 non-null      float64\n",
      " 21  Political System         44401 non-null  object \n",
      " 22  subregion                61969 non-null  object \n",
      " 23  Transitional Status      61673 non-null  object \n",
      " 24  gender_equality          61969 non-null  object \n",
      " 25  themes                   61086 non-null  object \n",
      " 26  gender_quota             61969 non-null  object \n",
      "dtypes: float64(11), int64(2), object(14)\n",
      "memory usage: 13.9+ MB\n"
     ]
    }
   ],
   "source": [
    "parliament_merged.info()"
   ]
  },
  {
   "cell_type": "code",
   "execution_count": 149,
   "metadata": {},
   "outputs": [
    {
     "name": "stderr",
     "output_type": "stream",
     "text": [
      "C:\\Users\\nuwai\\AppData\\Local\\Temp\\ipykernel_25188\\3127477871.py:14: FutureWarning: Downcasting object dtype arrays on .fillna, .ffill, .bfill is deprecated and will change in a future version. Call result.infer_objects(copy=False) instead. To opt-in to the future behavior, set `pd.set_option('future.no_silent_downcasting', True)`\n",
      "  .transform(lambda group: group.fillna(group.mode().iloc[0] if not group.mode().empty else np.nan))\n",
      "C:\\Users\\nuwai\\AppData\\Local\\Temp\\ipykernel_25188\\3127477871.py:14: FutureWarning: Downcasting object dtype arrays on .fillna, .ffill, .bfill is deprecated and will change in a future version. Call result.infer_objects(copy=False) instead. To opt-in to the future behavior, set `pd.set_option('future.no_silent_downcasting', True)`\n",
      "  .transform(lambda group: group.fillna(group.mode().iloc[0] if not group.mode().empty else np.nan))\n",
      "C:\\Users\\nuwai\\AppData\\Local\\Temp\\ipykernel_25188\\3127477871.py:14: FutureWarning: Downcasting object dtype arrays on .fillna, .ffill, .bfill is deprecated and will change in a future version. Call result.infer_objects(copy=False) instead. To opt-in to the future behavior, set `pd.set_option('future.no_silent_downcasting', True)`\n",
      "  .transform(lambda group: group.fillna(group.mode().iloc[0] if not group.mode().empty else np.nan))\n",
      "C:\\Users\\nuwai\\AppData\\Local\\Temp\\ipykernel_25188\\3127477871.py:14: FutureWarning: Downcasting object dtype arrays on .fillna, .ffill, .bfill is deprecated and will change in a future version. Call result.infer_objects(copy=False) instead. To opt-in to the future behavior, set `pd.set_option('future.no_silent_downcasting', True)`\n",
      "  .transform(lambda group: group.fillna(group.mode().iloc[0] if not group.mode().empty else np.nan))\n",
      "C:\\Users\\nuwai\\AppData\\Local\\Temp\\ipykernel_25188\\3127477871.py:14: FutureWarning: Downcasting object dtype arrays on .fillna, .ffill, .bfill is deprecated and will change in a future version. Call result.infer_objects(copy=False) instead. To opt-in to the future behavior, set `pd.set_option('future.no_silent_downcasting', True)`\n",
      "  .transform(lambda group: group.fillna(group.mode().iloc[0] if not group.mode().empty else np.nan))\n"
     ]
    }
   ],
   "source": [
    "meta_col_to_fill = [\"Political System\",\"Structure of Parliament\",\"gender_equality\",\"themes\",\"gender_quota\"]\n",
    "\n",
    "for col in meta_col_to_fill:\n",
    "    parliament_merged = fillna_with_mode(columns_to_fill=[col], merged_df=parliament_merged)\n",
    "    #print(parliament_merged[\"Political System\"].isna().sum())  # Should return 0 if all missing values are filled"
   ]
  },
  {
   "cell_type": "code",
   "execution_count": 151,
   "metadata": {},
   "outputs": [
    {
     "name": "stdout",
     "output_type": "stream",
     "text": [
      "['Antigua and Barbuda' 'Brunei Darussalam' 'Eritrea' 'Guinea-Bissau'\n",
      " 'Saint Kitts and Nevis' 'Saint Lucia'\n",
      " 'Venezuela (Bolivarian Republic of)' 'Yemen']\n"
     ]
    }
   ],
   "source": [
    "missing_par_struct = parliament_merged[parliament_merged[\"Structure of Parliament\"].isna()][['Country']]\n",
    "print(missing_par_struct['Country'].unique())"
   ]
  },
  {
   "cell_type": "code",
   "execution_count": 152,
   "metadata": {},
   "outputs": [],
   "source": [
    "parliament_merged = parliament_merged.drop(columns=['Population in thousands','Men Number','Women Number','Women Percent'])"
   ]
  },
  {
   "cell_type": "code",
   "execution_count": 154,
   "metadata": {},
   "outputs": [],
   "source": [
    "wip = parliament_merged.copy()"
   ]
  },
  {
   "cell_type": "code",
   "execution_count": 155,
   "metadata": {},
   "outputs": [
    {
     "name": "stdout",
     "output_type": "stream",
     "text": [
      "<class 'pandas.core.frame.DataFrame'>\n",
      "RangeIndex: 78112 entries, 0 to 78111\n",
      "Data columns (total 31 columns):\n",
      " #   Column              Non-Null Count  Dtype  \n",
      "---  ------              --------------  -----  \n",
      " 0   event_id_cnty       78112 non-null  object \n",
      " 1   event_date          78112 non-null  object \n",
      " 2   year                78112 non-null  int64  \n",
      " 3   time_precision      78112 non-null  int64  \n",
      " 4   disorder_type       78112 non-null  object \n",
      " 5   event_type          78112 non-null  object \n",
      " 6   sub_event_type      78112 non-null  object \n",
      " 7   actor1              78112 non-null  object \n",
      " 8   assoc_actor_1       57339 non-null  object \n",
      " 9   inter1              78112 non-null  object \n",
      " 10  actor2              28030 non-null  object \n",
      " 11  assoc_actor_2       24830 non-null  object \n",
      " 12  inter2              28030 non-null  object \n",
      " 13  interaction         78112 non-null  object \n",
      " 14  civilian_targeting  22229 non-null  object \n",
      " 15  iso                 78112 non-null  int64  \n",
      " 16  region              78112 non-null  object \n",
      " 17  country             78112 non-null  object \n",
      " 18  admin1              78112 non-null  object \n",
      " 19  admin2              76251 non-null  object \n",
      " 20  admin3              30432 non-null  object \n",
      " 21  location            78112 non-null  object \n",
      " 22  latitude            78112 non-null  float64\n",
      " 23  longitude           78112 non-null  float64\n",
      " 24  geo_precision       78112 non-null  int64  \n",
      " 25  source              78112 non-null  object \n",
      " 26  source_scale        78112 non-null  object \n",
      " 27  notes               78112 non-null  object \n",
      " 28  fatalities          78112 non-null  int64  \n",
      " 29  tags                58630 non-null  object \n",
      " 30  timestamp           78112 non-null  int64  \n",
      "dtypes: float64(2), int64(6), object(23)\n",
      "memory usage: 18.5+ MB\n"
     ]
    }
   ],
   "source": [
    "pvtw = pd.read_csv('ACLED_DATA.csv')\n",
    "pvtw.info()"
   ]
  },
  {
   "cell_type": "code",
   "execution_count": 156,
   "metadata": {},
   "outputs": [
    {
     "name": "stdout",
     "output_type": "stream",
     "text": [
      "total number of countries in women in parliament: 193\n",
      "total number of countries in PVTW: 194\n"
     ]
    }
   ],
   "source": [
    "total_country_wip = len(wip['Country'].value_counts().index)\n",
    "total_country_pvtw = len(pvtw['country'].value_counts().index)\n",
    "print(f\"total number of countries in women in parliament: {total_country_wip}\")\n",
    "print(f\"total number of countries in PVTW: {total_country_pvtw}\")"
   ]
  },
  {
   "cell_type": "code",
   "execution_count": 157,
   "metadata": {},
   "outputs": [
    {
     "name": "stdout",
     "output_type": "stream",
     "text": [
      "total missing countries  in WIP but not in PVTW 37\n",
      "Countries in WIP but not in PVTW: {'Democratic Republic Of The Congo', 'Bolivia (Plurinational State Of)', 'Kiribati', 'United States Of America', 'Tuvalu', 'United Republic Of Tanzania', 'Seychelles', 'Saint Lucia', 'Saint Kitts And Nevis', 'Congo', 'Monaco', 'Cabo Verde', 'Marshall Islands', 'Micronesia (Federated States Of)', \"Côte D'Ivoire\", 'Tonga', 'Gambia (The)', 'Republic Of Korea', 'Viet Nam', 'Bhutan', 'Venezuela (Bolivarian Republic Of)', 'Russian Federation', 'Grenada', \"Democratic People'S Republic Of Korea\", 'Iran (Islamic Republic Of)', \"Lao People'S Democratic Republic\", 'Nauru', 'Brunei Darussalam', 'Türkiye', 'Saint Vincent And The Grenadines', 'Palau', 'Czechia', 'United Arab Emirates', 'Syrian Arab Republic', 'Oman', 'Timor-Leste', 'Republic Of Moldova'}\n",
      "total missing countries  in PVTW but not in WIP 38\n",
      "Countries in PVTW but not in WIP: {'Mayotte', 'Gambia', 'New Caledonia', 'French Polynesia', 'Sint Maarten', 'Palestine', 'Bailiwick Of Guernsey', 'Saint-Martin', 'Turkey', 'Iran', 'Russia', 'Guam', 'Moldova', 'Democratic Republic Of Congo', 'Bolivia', 'Republic Of Congo', 'Vietnam', 'Laos', 'Greenland', 'Reunion', 'East Timor', 'Caribbean Netherlands', 'Curacao', 'Czech Republic', 'Ivory Coast', 'Tanzania', 'Syria', 'Taiwan', 'Cape Verde', 'Guadeloupe', 'South Korea', 'Martinique', 'Venezuela', 'North Korea', 'French Guiana', 'Puerto Rico', 'United States', 'Kosovo'}\n"
     ]
    }
   ],
   "source": [
    "# Standardize country names to title case\n",
    "wip['Country'] = wip['Country'].str.title()\n",
    "pvtw['country'] = pvtw['country'].str.title()\n",
    "\n",
    "# Get unique country names from both datasets\n",
    "countries_wip = set(wip['Country'].unique())\n",
    "countries_pvtw = set(pvtw['country'].unique())\n",
    "\n",
    "# Find differences\n",
    "only_in_wip = countries_wip - countries_pvtw\n",
    "only_in_pvtw = countries_pvtw - countries_wip\n",
    "\n",
    "# Print results\n",
    "print(\"total missing countries  in WIP but not in PVTW\", len(only_in_wip))\n",
    "print(\"Countries in WIP but not in PVTW:\", only_in_wip)\n",
    "print(\"total missing countries  in PVTW but not in WIP\", len(only_in_pvtw))\n",
    "print(\"Countries in PVTW but not in WIP:\", only_in_pvtw)"
   ]
  },
  {
   "cell_type": "code",
   "execution_count": 158,
   "metadata": {},
   "outputs": [
    {
     "name": "stderr",
     "output_type": "stream",
     "text": [
      "C:\\Users\\nuwai\\AppData\\Local\\Temp\\ipykernel_25188\\2319916235.py:43: FutureWarning: A value is trying to be set on a copy of a DataFrame or Series through chained assignment using an inplace method.\n",
      "The behavior will change in pandas 3.0. This inplace method will never work because the intermediate object on which we are setting values always behaves as a copy.\n",
      "\n",
      "For example, when doing 'df[col].method(value, inplace=True)', try using 'df.method({col: value}, inplace=True)' or df[col] = df[col].method(value) instead, to perform the operation inplace on the original object.\n",
      "\n",
      "\n",
      "  wip['Country'].replace(country_mapping, inplace=True)\n"
     ]
    }
   ],
   "source": [
    "# Mapping of WIP country names to PVTW names (shorter versions)\n",
    "# Standardize the countries name\n",
    "country_mapping = {\n",
    "    'Viet Nam': 'Vietnam',\n",
    "    'Türkiye': 'Turkey',\n",
    "    'Venezuela (Bolivarian Republic Of)': 'Venezuela',\n",
    "    'Syrian Arab Republic': 'Syria',\n",
    "    'Saint Kitts And Nevis': 'Saint Kitts and Nevis',\n",
    "    'Democratic Republic Of The Congo': 'Democratic Republic Of Congo',\n",
    "    'Timor-Leste': 'East Timor',\n",
    "    'Saint Lucia': 'Saint Lucia',\n",
    "    'Congo': 'Republic Of Congo',\n",
    "    'Tuvalu': 'Tuvalu',\n",
    "    'Seychelles': 'Seychelles',\n",
    "    'Russian Federation': 'Russia',\n",
    "    'United Arab Emirates': 'United Arab Emirates',\n",
    "    \"Democratic People'S Republic Of Korea\": 'North Korea',\n",
    "    'Gambia (The)': 'Gambia',\n",
    "    \"Côte D'Ivoire\": 'Ivory Coast',\n",
    "    'Bolivia (Plurinational State Of)': 'Bolivia',\n",
    "    'Republic Of Moldova': 'Moldova',\n",
    "    'Grenada': 'Grenada',\n",
    "    'Iran (Islamic Republic Of)': 'Iran',\n",
    "    'Republic Of Korea': 'South Korea',\n",
    "    'Oman': 'Oman',\n",
    "    'Tonga': 'Tonga',\n",
    "    'Marshall Islands': 'Marshall Islands',\n",
    "    'Nauru': 'Nauru',\n",
    "    'Saint Vincent And The Grenadines': 'Saint Vincent and the Grenadines',\n",
    "    'United Republic Of Tanzania': 'Tanzania',\n",
    "    \"Lao People'S Democratic Republic\": 'Laos',\n",
    "    'Bhutan': 'Bhutan',\n",
    "    'Monaco': 'Monaco',\n",
    "    'United States Of America': 'United States',\n",
    "    'Cabo Verde': 'Cape Verde',\n",
    "    'Micronesia (Federated States Of)': 'Micronesia',\n",
    "    'Palau': 'Palau',\n",
    "    'Czechia': 'Czech Republic',\n",
    "    'Brunei Darussalam': 'Brunei'\n",
    "}\n",
    "\n",
    "# Apply renaming in WIP dataset\n",
    "wip['Country'].replace(country_mapping, inplace=True)"
   ]
  },
  {
   "cell_type": "code",
   "execution_count": 159,
   "metadata": {},
   "outputs": [
    {
     "name": "stdout",
     "output_type": "stream",
     "text": [
      "17\n",
      "Remaining Countries in WIP but not in PVTW: {'Kiribati', 'Monaco', 'Nauru', 'Marshall Islands', 'Bhutan', 'Brunei', 'Saint Vincent and the Grenadines', 'Palau', 'Grenada', 'Tuvalu', 'Saint Kitts and Nevis', 'United Arab Emirates', 'Seychelles', 'Saint Lucia', 'Tonga', 'Micronesia', 'Oman'}\n",
      "18\n",
      "Remaining Countries in PVTW but not in WIP: {'Caribbean Netherlands', 'Guam', 'Guadeloupe', 'Mayotte', 'Martinique', 'Curacao', 'French Guiana', 'French Polynesia', 'New Caledonia', 'Puerto Rico', 'Sint Maarten', 'Palestine', 'Bailiwick Of Guernsey', 'Saint-Martin', 'Kosovo', 'Greenland', 'Reunion', 'Taiwan'}\n"
     ]
    }
   ],
   "source": [
    "# Recheck differences after renaming\n",
    "countries_wip = set(wip['Country'].unique())\n",
    "countries_pvtw = set(pvtw['country'].unique())\n",
    "\n",
    "# Find remaining differences\n",
    "only_in_wip = countries_wip - countries_pvtw\n",
    "only_in_pvtw = countries_pvtw - countries_wip\n",
    "\n",
    "# Print results\n",
    "print(len(only_in_wip))\n",
    "print(\"Remaining Countries in WIP but not in PVTW:\", only_in_wip)\n",
    "print(len(only_in_pvtw))\n",
    "print(\"Remaining Countries in PVTW but not in WIP:\", only_in_pvtw)"
   ]
  },
  {
   "cell_type": "markdown",
   "metadata": {},
   "source": [
    "✅ Countries in WIP but not in PVTW (18 total)\n",
    "These are mostly small island nations and microstates:\n",
    "\n",
    "Seychelles, Kiribati, United Arab Emirates, Saint Kitts and Nevis, Monaco, Oman, Micronesia, Tonga, Marshall Islands, Brunei, Nauru, Bhutan, Palau, Saint Lucia, Grenada, Tuvalu, Saint Vincent and the Grenadines\n",
    "🔹 Possible Explanation:\n",
    "These countries may not have recorded violent incidents in PVTW.\n",
    "\n",
    "✅ Countries in PVTW but not in WIP (18 total)\n",
    "These are mostly territories, regions, and disputed areas:\n",
    "\n",
    "Reunion, Bailiwick Of Guernsey, Guam, Taiwan, Sint Maarten, French Polynesia, Martinique, Palestine, New Caledonia, Kosovo, French Guiana, Mayotte, Puerto Rico, Greenland, Caribbean Netherlands, Guadeloupe, Curacao, Saint-Martin\n",
    "🔹 Possible Explanation:\n",
    "WIP might only include recognized sovereign states, whereas PVTW includes territories and disputed regions."
   ]
  },
  {
   "cell_type": "code",
   "execution_count": 160,
   "metadata": {},
   "outputs": [
    {
     "data": {
      "text/plain": [
       "0    11\n",
       "1    11\n",
       "2    11\n",
       "3    11\n",
       "4    11\n",
       "Name: Month, dtype: int32"
      ]
     },
     "execution_count": 160,
     "metadata": {},
     "output_type": "execute_result"
    }
   ],
   "source": [
    "pvtw['Month'] = pd.to_datetime(pvtw['event_date']).dt.month\n",
    "pvtw['Month'].head()"
   ]
  },
  {
   "cell_type": "code",
   "execution_count": 178,
   "metadata": {},
   "outputs": [
    {
     "data": {
      "text/plain": [
       "Index(['event_id_cnty', 'event_date', 'year', 'time_precision',\n",
       "       'disorder_type', 'event_type', 'sub_event_type', 'actor1',\n",
       "       'assoc_actor_1', 'inter1', 'actor2', 'assoc_actor_2', 'inter2',\n",
       "       'interaction', 'civilian_targeting', 'iso', 'region', 'country',\n",
       "       'admin1', 'admin2', 'admin3', 'location', 'latitude', 'longitude',\n",
       "       'geo_precision', 'source', 'source_scale', 'notes', 'fatalities',\n",
       "       'tags', 'timestamp', 'Month'],\n",
       "      dtype='object')"
      ]
     },
     "execution_count": 178,
     "metadata": {},
     "output_type": "execute_result"
    }
   ],
   "source": [
    "pvtw.columns"
   ]
  },
  {
   "cell_type": "code",
   "execution_count": 161,
   "metadata": {},
   "outputs": [],
   "source": [
    "#Extract parliament structured data from 2019-2024\n",
    "parliment_structure = pd.read_csv('cleaned_women_parliament_data.csv')"
   ]
  },
  {
   "cell_type": "code",
   "execution_count": 162,
   "metadata": {},
   "outputs": [
    {
     "name": "stderr",
     "output_type": "stream",
     "text": [
      "C:\\Users\\nuwai\\AppData\\Local\\Temp\\ipykernel_25188\\2608001108.py:2: FutureWarning: A value is trying to be set on a copy of a DataFrame or Series through chained assignment using an inplace method.\n",
      "The behavior will change in pandas 3.0. This inplace method will never work because the intermediate object on which we are setting values always behaves as a copy.\n",
      "\n",
      "For example, when doing 'df[col].method(value, inplace=True)', try using 'df.method({col: value}, inplace=True)' or df[col] = df[col].method(value) instead, to perform the operation inplace on the original object.\n",
      "\n",
      "\n",
      "  parliment_structure['Country'].replace(country_mapping, inplace=True)\n"
     ]
    }
   ],
   "source": [
    "# Apply renaming in WIP dataset\n",
    "parliment_structure['Country'].replace(country_mapping, inplace=True)"
   ]
  },
  {
   "cell_type": "code",
   "execution_count": 177,
   "metadata": {},
   "outputs": [
    {
     "data": {
      "text/plain": [
       "Index(['Year', 'Month', 'Country', 'Country Code', 'Region', 'Subregion',\n",
       "       'Lower Total Seat', 'Lower Total Women', 'Lower Chamber Women (%)',\n",
       "       'Upper Total Seat', 'Upper Total Women', 'Upper Chamber Women (%)',\n",
       "       'Rank', 'Suspended Parliament', 'Structure of Parliament',\n",
       "       'Region_meta', 'IPU Membership', 'Political System', 'subregion',\n",
       "       'Transitional Status', 'gender_equality', 'themes', 'gender_quota'],\n",
       "      dtype='object')"
      ]
     },
     "execution_count": 177,
     "metadata": {},
     "output_type": "execute_result"
    }
   ],
   "source": [
    "wip.columns"
   ]
  },
  {
   "cell_type": "code",
   "execution_count": 179,
   "metadata": {},
   "outputs": [
    {
     "data": {
      "text/plain": [
       "(78112, 54)"
      ]
     },
     "execution_count": 179,
     "metadata": {},
     "output_type": "execute_result"
    }
   ],
   "source": [
    "pvtw_merged = pvtw.merge(wip, left_on=['country','year','Month'], right_on=['Country','Year','Month'], how='left')\n",
    "pvtw_merged.shape"
   ]
  },
  {
   "cell_type": "code",
   "execution_count": 180,
   "metadata": {},
   "outputs": [
    {
     "data": {
      "text/plain": [
       "Index(['event_id_cnty', 'event_date', 'year', 'time_precision',\n",
       "       'disorder_type', 'event_type', 'sub_event_type', 'actor1',\n",
       "       'assoc_actor_1', 'inter1', 'actor2', 'assoc_actor_2', 'inter2',\n",
       "       'interaction', 'civilian_targeting', 'iso', 'region', 'country',\n",
       "       'admin1', 'admin2', 'admin3', 'location', 'latitude', 'longitude',\n",
       "       'geo_precision', 'source', 'source_scale', 'notes', 'fatalities',\n",
       "       'tags', 'timestamp', 'Month', 'Year', 'Country', 'Country Code',\n",
       "       'Region', 'Subregion', 'Lower Total Seat', 'Lower Total Women',\n",
       "       'Lower Chamber Women (%)', 'Upper Total Seat', 'Upper Total Women',\n",
       "       'Upper Chamber Women (%)', 'Rank', 'Suspended Parliament',\n",
       "       'Structure of Parliament', 'Region_meta', 'IPU Membership',\n",
       "       'Political System', 'subregion', 'Transitional Status',\n",
       "       'gender_equality', 'themes', 'gender_quota'],\n",
       "      dtype='object')"
      ]
     },
     "execution_count": 180,
     "metadata": {},
     "output_type": "execute_result"
    }
   ],
   "source": [
    "pvtw_merged.columns"
   ]
  },
  {
   "cell_type": "code",
   "execution_count": 181,
   "metadata": {},
   "outputs": [
    {
     "name": "stdout",
     "output_type": "stream",
     "text": [
      "<class 'pandas.core.frame.DataFrame'>\n",
      "RangeIndex: 78112 entries, 0 to 78111\n",
      "Data columns (total 17 columns):\n",
      " #   Column                   Non-Null Count  Dtype  \n",
      "---  ------                   --------------  -----  \n",
      " 0   Region_meta              73451 non-null  object \n",
      " 1   Subregion                77356 non-null  object \n",
      " 2   Lower Total Seat         77356 non-null  float64\n",
      " 3   Lower Total Women        77356 non-null  float64\n",
      " 4   Lower Chamber Women (%)  77356 non-null  float64\n",
      " 5   Upper Total Seat         57507 non-null  float64\n",
      " 6   Upper Total Women        57507 non-null  float64\n",
      " 7   Upper Chamber Women (%)  57507 non-null  float64\n",
      " 8   Rank                     74986 non-null  float64\n",
      " 9   Suspended Parliament     73451 non-null  object \n",
      " 10  Structure of Parliament  75466 non-null  object \n",
      " 11  IPU Membership           73442 non-null  object \n",
      " 12  Political System         75466 non-null  object \n",
      " 13  Transitional Status      73429 non-null  object \n",
      " 14  gender_equality          75466 non-null  object \n",
      " 15  themes                   75466 non-null  object \n",
      " 16  gender_quota             75466 non-null  object \n",
      "dtypes: float64(7), object(10)\n",
      "memory usage: 10.1+ MB\n"
     ]
    }
   ],
   "source": [
    "col_to_check = ['Region_meta',\n",
    "       'Subregion', 'Lower Total Seat', 'Lower Total Women',\n",
    "       'Lower Chamber Women (%)', 'Upper Total Seat', 'Upper Total Women',\n",
    "       'Upper Chamber Women (%)', 'Rank', 'Suspended Parliament',\n",
    "       'Structure of Parliament', 'IPU Membership', \n",
    "       'Political System', 'Transitional Status', 'gender_equality', 'themes',\n",
    "       'gender_quota']\n",
    "pvtw_merged[col_to_check].info()"
   ]
  },
  {
   "cell_type": "code",
   "execution_count": 171,
   "metadata": {},
   "outputs": [],
   "source": [
    "# # Define column groups\n",
    "# cols_to_fill_structure = ['Upper Total Seat', 'Upper Total Women', 'Upper Chamber Women (%)', 'Rank', \n",
    "#                           'Political System', 'Structure of Parliament', 'Suspended Parliament',\n",
    "#                           'Transitional Status', 'IPU Membership','gender_equality', 'themes', 'gender_quota']\n",
    "\n",
    "# # Merge with reference data on month, year, and country\n",
    "# pvtw_merged = pvtw_merged.merge(parliment_structure, on=['Month', 'Year', 'Country'], how='left', suffixes=('', '_struct'))\n",
    "\n",
    "# # Fill missing values for 2019-2025 using structure data\n",
    "# for col in cols_to_fill_structure:\n",
    "#     mask_stru = (pvtw_merged['year'].between(2019, 2025)) & (pvtw_merged[col].isna())\n",
    "#     pvtw_merged.loc[mask_stru, col] = pvtw_merged.loc[mask_stru, f\"{col}_struct\"]\n",
    "\n",
    "# # Drop auxiliary columns\n",
    "# pvtw_merged.drop(columns=[f\"{col}_struct\" for col in cols_to_fill_structure if f\"{col}_struct\" in pvtw_merged.columns], inplace=True)"
   ]
  },
  {
   "cell_type": "code",
   "execution_count": 182,
   "metadata": {},
   "outputs": [],
   "source": [
    "pvtw_merged .drop(['year', 'Country', 'Country Code','subregion'], axis=1, inplace=True)"
   ]
  },
  {
   "cell_type": "code",
   "execution_count": 183,
   "metadata": {},
   "outputs": [
    {
     "data": {
      "text/plain": [
       "Index(['event_id_cnty', 'event_date', 'time_precision', 'disorder_type',\n",
       "       'event_type', 'sub_event_type', 'actor1', 'assoc_actor_1', 'inter1',\n",
       "       'actor2', 'assoc_actor_2', 'inter2', 'interaction',\n",
       "       'civilian_targeting', 'iso', 'region', 'country', 'admin1', 'admin2',\n",
       "       'admin3', 'location', 'latitude', 'longitude', 'geo_precision',\n",
       "       'source', 'source_scale', 'notes', 'fatalities', 'tags', 'timestamp',\n",
       "       'Month', 'Year', 'Region', 'Subregion', 'Lower Total Seat',\n",
       "       'Lower Total Women', 'Lower Chamber Women (%)', 'Upper Total Seat',\n",
       "       'Upper Total Women', 'Upper Chamber Women (%)', 'Rank',\n",
       "       'Suspended Parliament', 'Structure of Parliament', 'Region_meta',\n",
       "       'IPU Membership', 'Political System', 'Transitional Status',\n",
       "       'gender_equality', 'themes', 'gender_quota'],\n",
       "      dtype='object')"
      ]
     },
     "execution_count": 183,
     "metadata": {},
     "output_type": "execute_result"
    }
   ],
   "source": [
    "pvtw_merged.columns"
   ]
  },
  {
   "cell_type": "code",
   "execution_count": 184,
   "metadata": {},
   "outputs": [
    {
     "data": {
      "text/plain": [
       "Subregion\n",
       "south_asia                    15631\n",
       "north_america                 13652\n",
       "south_america                  7357\n",
       "southern_europe                6468\n",
       "east_asia                      5060\n",
       "middle_east                    3619\n",
       "western_europe                 3486\n",
       "central_and_eastern_europe     3275\n",
       "central_africa                 2998\n",
       "south_east_asia                2922\n",
       "west_africa                    2688\n",
       "east_africa                    2099\n",
       "north_africa                   1818\n",
       "southern_africa                1772\n",
       "central_america                1529\n",
       "nordic_countries               1235\n",
       "caribbean                       852\n",
       "central_asia                    586\n",
       "australia_and_new_zealand       214\n",
       "pacific_islands                  95\n",
       "Name: count, dtype: int64"
      ]
     },
     "execution_count": 184,
     "metadata": {},
     "output_type": "execute_result"
    }
   ],
   "source": [
    "pvtw_merged['Subregion'].value_counts()"
   ]
  },
  {
   "cell_type": "code",
   "execution_count": 185,
   "metadata": {},
   "outputs": [
    {
     "data": {
      "text/plain": [
       "region\n",
       "North America                13652\n",
       "South Asia                   12669\n",
       "Europe                       10943\n",
       "Middle East                   9477\n",
       "South America                 7361\n",
       "East Asia                     5248\n",
       "Eastern Africa                3052\n",
       "Southeast Asia                2922\n",
       "Western Africa                2763\n",
       "Middle Africa                 2514\n",
       "Northern Africa               1905\n",
       "Central America               1529\n",
       "Caucasus and Central Asia     1440\n",
       "Southern Africa               1325\n",
       "Caribbean                      987\n",
       "Oceania                        325\n",
       "Name: count, dtype: int64"
      ]
     },
     "execution_count": 185,
     "metadata": {},
     "output_type": "execute_result"
    }
   ],
   "source": [
    "pvtw_merged ['region'].value_counts()"
   ]
  },
  {
   "cell_type": "code",
   "execution_count": 186,
   "metadata": {},
   "outputs": [],
   "source": [
    "#Drop subregion from wip\n",
    "pvtw_merged.drop(['Subregion'], axis=1, inplace=True)"
   ]
  },
  {
   "cell_type": "code",
   "execution_count": 187,
   "metadata": {},
   "outputs": [],
   "source": [
    "#rename region to subregion in pvtw\n",
    "pvtw_merged.rename(columns={'region':'Subregion'}, inplace=True)"
   ]
  },
  {
   "cell_type": "code",
   "execution_count": 188,
   "metadata": {},
   "outputs": [
    {
     "name": "stdout",
     "output_type": "stream",
     "text": [
      "['Palestine' 'Taiwan' 'Reunion' 'Kosovo' 'French Guiana' 'Puerto Rico'\n",
      " 'Sint Maarten' 'Mayotte' 'Bailiwick Of Guernsey' 'Greenland'\n",
      " 'New Caledonia' 'Martinique' 'Caribbean Netherlands' 'French Polynesia'\n",
      " 'Guam' 'Saint-Martin' 'Guadeloupe' 'Curacao']\n"
     ]
    }
   ],
   "source": [
    "missing_regions = pvtw_merged[pvtw_merged['Region'].isna()][['country', 'Subregion', 'Region']]\n",
    "print(missing_regions['country'].unique())"
   ]
  },
  {
   "cell_type": "code",
   "execution_count": 189,
   "metadata": {},
   "outputs": [
    {
     "name": "stdout",
     "output_type": "stream",
     "text": [
      "['Palestine' 'Taiwan' 'Reunion' 'Kosovo' 'French Guiana' 'Puerto Rico'\n",
      " 'Sint Maarten' 'Mayotte' 'Bailiwick Of Guernsey' 'Greenland'\n",
      " 'New Caledonia' 'Martinique' 'Caribbean Netherlands' 'French Polynesia'\n",
      " 'Guam' 'Saint-Martin' 'Guadeloupe' 'Curacao']\n"
     ]
    }
   ],
   "source": [
    "missing_seat = pvtw_merged[pvtw_merged['Lower Total Seat'].isna()][['country', 'Subregion', 'Region']]\n",
    "print(missing_seat['country'].unique())"
   ]
  },
  {
   "cell_type": "code",
   "execution_count": 190,
   "metadata": {},
   "outputs": [],
   "source": [
    "region_mapping = {\n",
    "    'Palestine': 'middle_east_and_north_africa',\n",
    "    'Taiwan': 'asia',\n",
    "    'Reunion': 'africa',  # French overseas territory, but geographically in Africa\n",
    "    'Kosovo': 'europe',\n",
    "    'French Guiana': 'americas',\n",
    "    'Puerto Rico': 'americas',\n",
    "    'Sint Maarten': 'americas',\n",
    "    'Mayotte': 'africa',  # French overseas territory near Madagascar\n",
    "    'Bailiwick Of Guernsey': 'europe',\n",
    "    'Greenland': 'europe',  # Politically part of Denmark\n",
    "    'New Caledonia': 'pacific',\n",
    "    'Martinique': 'americas',\n",
    "    'Caribbean Netherlands': 'americas',\n",
    "    'French Polynesia': 'pacific',\n",
    "    'Guam': 'pacific',\n",
    "    'Saint-Martin': 'americas',\n",
    "    'Guadeloupe': 'americas',\n",
    "    'Curacao': 'americas'\n",
    "}\n",
    "pvtw_merged['Region'] = pvtw_merged['Region'].fillna(pvtw_merged['country'].map(region_mapping))"
   ]
  },
  {
   "cell_type": "code",
   "execution_count": 191,
   "metadata": {},
   "outputs": [
    {
     "name": "stdout",
     "output_type": "stream",
     "text": [
      "<class 'pandas.core.frame.DataFrame'>\n",
      "RangeIndex: 78112 entries, 0 to 78111\n",
      "Data columns (total 49 columns):\n",
      " #   Column                   Non-Null Count  Dtype  \n",
      "---  ------                   --------------  -----  \n",
      " 0   event_id_cnty            78112 non-null  object \n",
      " 1   event_date               78112 non-null  object \n",
      " 2   time_precision           78112 non-null  int64  \n",
      " 3   disorder_type            78112 non-null  object \n",
      " 4   event_type               78112 non-null  object \n",
      " 5   sub_event_type           78112 non-null  object \n",
      " 6   actor1                   78112 non-null  object \n",
      " 7   assoc_actor_1            57339 non-null  object \n",
      " 8   inter1                   78112 non-null  object \n",
      " 9   actor2                   28030 non-null  object \n",
      " 10  assoc_actor_2            24830 non-null  object \n",
      " 11  inter2                   28030 non-null  object \n",
      " 12  interaction              78112 non-null  object \n",
      " 13  civilian_targeting       22229 non-null  object \n",
      " 14  iso                      78112 non-null  int64  \n",
      " 15  Subregion                78112 non-null  object \n",
      " 16  country                  78112 non-null  object \n",
      " 17  admin1                   78112 non-null  object \n",
      " 18  admin2                   76251 non-null  object \n",
      " 19  admin3                   30432 non-null  object \n",
      " 20  location                 78112 non-null  object \n",
      " 21  latitude                 78112 non-null  float64\n",
      " 22  longitude                78112 non-null  float64\n",
      " 23  geo_precision            78112 non-null  int64  \n",
      " 24  source                   78112 non-null  object \n",
      " 25  source_scale             78112 non-null  object \n",
      " 26  notes                    78112 non-null  object \n",
      " 27  fatalities               78112 non-null  int64  \n",
      " 28  tags                     58630 non-null  object \n",
      " 29  timestamp                78112 non-null  int64  \n",
      " 30  Month                    78112 non-null  int32  \n",
      " 31  Year                     77356 non-null  float64\n",
      " 32  Region                   78112 non-null  object \n",
      " 33  Lower Total Seat         77356 non-null  float64\n",
      " 34  Lower Total Women        77356 non-null  float64\n",
      " 35  Lower Chamber Women (%)  77356 non-null  float64\n",
      " 36  Upper Total Seat         57507 non-null  float64\n",
      " 37  Upper Total Women        57507 non-null  float64\n",
      " 38  Upper Chamber Women (%)  57507 non-null  float64\n",
      " 39  Rank                     74986 non-null  float64\n",
      " 40  Suspended Parliament     73451 non-null  object \n",
      " 41  Structure of Parliament  75466 non-null  object \n",
      " 42  Region_meta              73451 non-null  object \n",
      " 43  IPU Membership           73442 non-null  object \n",
      " 44  Political System         75466 non-null  object \n",
      " 45  Transitional Status      73429 non-null  object \n",
      " 46  gender_equality          75466 non-null  object \n",
      " 47  themes                   75466 non-null  object \n",
      " 48  gender_quota             75466 non-null  object \n",
      "dtypes: float64(10), int32(1), int64(5), object(33)\n",
      "memory usage: 28.9+ MB\n"
     ]
    }
   ],
   "source": [
    "pvtw_merged.info()"
   ]
  },
  {
   "cell_type": "code",
   "execution_count": 192,
   "metadata": {},
   "outputs": [],
   "source": [
    "pvtw_merged['event_date'] = pd.to_datetime(pvtw_merged['event_date'] )"
   ]
  },
  {
   "cell_type": "code",
   "execution_count": 193,
   "metadata": {},
   "outputs": [],
   "source": [
    "pvtw_merged['Region'] = pvtw_merged['Region'].str.title()"
   ]
  },
  {
   "cell_type": "code",
   "execution_count": 194,
   "metadata": {},
   "outputs": [
    {
     "data": {
      "text/plain": [
       "Region\n",
       "Asia                            24387\n",
       "Americas                        23529\n",
       "Europe                          14539\n",
       "Sub_Saharan_Africa               9557\n",
       "Middle_East_And_North_Africa     5753\n",
       "Pacific                           325\n",
       "Africa                             22\n",
       "Name: count, dtype: int64"
      ]
     },
     "execution_count": 194,
     "metadata": {},
     "output_type": "execute_result"
    }
   ],
   "source": [
    "pvtw_merged['Region'].value_counts()"
   ]
  },
  {
   "cell_type": "code",
   "execution_count": 195,
   "metadata": {},
   "outputs": [],
   "source": [
    "pvtw_merged.to_csv('pvtw_merged_with_parliament_1997_2024.csv')"
   ]
  },
  {
   "cell_type": "markdown",
   "metadata": {},
   "source": [
    "['Palestine' 'Taiwan' 'Reunion' 'Kosovo' 'French Guiana' 'Puerto Rico'\n",
    " 'Sint Maarten' 'Mayotte' 'Bailiwick Of Guernsey' 'Greenland'\n",
    " 'New Caledonia' 'Martinique' 'Caribbean Netherlands' 'French Polynesia'\n",
    " 'Guam' 'Saint-Martin' 'Guadeloupe' 'Curacao']\n",
    "\n",
    " These are mostly territories, regions, and disputed areas. These countries do not have parliament data in IPU. So, For the hypothesis, these countries will filter out.\n",
    "\n",
    "WIP might only include recognized sovereign states, whereas PVTW includes territories and disputed regions."
   ]
  }
 ],
 "metadata": {
  "kernelspec": {
   "display_name": "Python 3",
   "language": "python",
   "name": "python3"
  },
  "language_info": {
   "codemirror_mode": {
    "name": "ipython",
    "version": 3
   },
   "file_extension": ".py",
   "mimetype": "text/x-python",
   "name": "python",
   "nbconvert_exporter": "python",
   "pygments_lexer": "ipython3",
   "version": "3.9.0"
  }
 },
 "nbformat": 4,
 "nbformat_minor": 2
}
