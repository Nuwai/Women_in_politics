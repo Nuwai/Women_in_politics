{
 "cells": [
  {
   "cell_type": "code",
   "execution_count": 1,
   "metadata": {},
   "outputs": [],
   "source": [
    "import pandas as pd\n",
    "import numpy as np\n",
    "from numpy import log"
   ]
  },
  {
   "cell_type": "code",
   "execution_count": 2,
   "metadata": {},
   "outputs": [
    {
     "data": {
      "text/plain": [
       "'c:\\\\Users\\\\nuwai\\\\Documents\\\\Sophia_Skill_Development\\\\Sophia_projects\\\\Women in politics\\\\Data collection'"
      ]
     },
     "execution_count": 2,
     "metadata": {},
     "output_type": "execute_result"
    }
   ],
   "source": [
    "pwd"
   ]
  },
  {
   "cell_type": "code",
   "execution_count": 3,
   "metadata": {},
   "outputs": [
    {
     "data": {
      "text/html": [
       "<div>\n",
       "<style scoped>\n",
       "    .dataframe tbody tr th:only-of-type {\n",
       "        vertical-align: middle;\n",
       "    }\n",
       "\n",
       "    .dataframe tbody tr th {\n",
       "        vertical-align: top;\n",
       "    }\n",
       "\n",
       "    .dataframe thead th {\n",
       "        text-align: right;\n",
       "    }\n",
       "</style>\n",
       "<table border=\"1\" class=\"dataframe\">\n",
       "  <thead>\n",
       "    <tr style=\"text-align: right;\">\n",
       "      <th></th>\n",
       "      <th>Year</th>\n",
       "      <th>Month</th>\n",
       "      <th>Country</th>\n",
       "      <th>Country Code</th>\n",
       "      <th>Region</th>\n",
       "      <th>Subregion</th>\n",
       "      <th>Lower Total Seat</th>\n",
       "      <th>Lower Total Women</th>\n",
       "      <th>Lower Chamber Women (%)</th>\n",
       "      <th>Upper Total Seat</th>\n",
       "      <th>Upper Total Women</th>\n",
       "      <th>Upper Chamber Women (%)</th>\n",
       "      <th>Rank</th>\n",
       "      <th>lower_elec_from</th>\n",
       "      <th>lower_elec_to</th>\n",
       "      <th>upper_elec_from</th>\n",
       "      <th>upper_elec_to</th>\n",
       "    </tr>\n",
       "  </thead>\n",
       "  <tbody>\n",
       "    <tr>\n",
       "      <th>0</th>\n",
       "      <td>2019</td>\n",
       "      <td>1</td>\n",
       "      <td>Rwanda</td>\n",
       "      <td>RW</td>\n",
       "      <td>sub_saharan_africa</td>\n",
       "      <td>central_africa</td>\n",
       "      <td>80.0</td>\n",
       "      <td>49.0</td>\n",
       "      <td>61.3</td>\n",
       "      <td>26.0</td>\n",
       "      <td>10.0</td>\n",
       "      <td>38.5</td>\n",
       "      <td>1.0</td>\n",
       "      <td>2018-09-03T00:00:00.000Z</td>\n",
       "      <td>NaN</td>\n",
       "      <td>2011-09-26T00:00:00.000Z</td>\n",
       "      <td>2011-09-27T00:00:00.000Z</td>\n",
       "    </tr>\n",
       "    <tr>\n",
       "      <th>1</th>\n",
       "      <td>2019</td>\n",
       "      <td>1</td>\n",
       "      <td>Cuba</td>\n",
       "      <td>CU</td>\n",
       "      <td>americas</td>\n",
       "      <td>caribbean</td>\n",
       "      <td>605.0</td>\n",
       "      <td>322.0</td>\n",
       "      <td>53.2</td>\n",
       "      <td>NaN</td>\n",
       "      <td>NaN</td>\n",
       "      <td>NaN</td>\n",
       "      <td>2.0</td>\n",
       "      <td>2018-03-11T00:00:00.000Z</td>\n",
       "      <td>NaN</td>\n",
       "      <td>NaN</td>\n",
       "      <td>NaN</td>\n",
       "    </tr>\n",
       "    <tr>\n",
       "      <th>2</th>\n",
       "      <td>2019</td>\n",
       "      <td>1</td>\n",
       "      <td>Bolivia (Plurinational State of)</td>\n",
       "      <td>BO</td>\n",
       "      <td>americas</td>\n",
       "      <td>south_america</td>\n",
       "      <td>130.0</td>\n",
       "      <td>69.0</td>\n",
       "      <td>53.1</td>\n",
       "      <td>36.0</td>\n",
       "      <td>17.0</td>\n",
       "      <td>47.2</td>\n",
       "      <td>3.0</td>\n",
       "      <td>2014-10-12T00:00:00.000Z</td>\n",
       "      <td>NaN</td>\n",
       "      <td>2014-10-12T00:00:00.000Z</td>\n",
       "      <td>NaN</td>\n",
       "    </tr>\n",
       "    <tr>\n",
       "      <th>3</th>\n",
       "      <td>2019</td>\n",
       "      <td>1</td>\n",
       "      <td>Mexico</td>\n",
       "      <td>MX</td>\n",
       "      <td>americas</td>\n",
       "      <td>north_america</td>\n",
       "      <td>500.0</td>\n",
       "      <td>241.0</td>\n",
       "      <td>48.2</td>\n",
       "      <td>128.0</td>\n",
       "      <td>63.0</td>\n",
       "      <td>49.2</td>\n",
       "      <td>4.0</td>\n",
       "      <td>2018-07-01T00:00:00.000Z</td>\n",
       "      <td>NaN</td>\n",
       "      <td>2018-07-01T00:00:00.000Z</td>\n",
       "      <td>NaN</td>\n",
       "    </tr>\n",
       "    <tr>\n",
       "      <th>4</th>\n",
       "      <td>2019</td>\n",
       "      <td>1</td>\n",
       "      <td>Sweden</td>\n",
       "      <td>SE</td>\n",
       "      <td>europe</td>\n",
       "      <td>nordic_countries</td>\n",
       "      <td>349.0</td>\n",
       "      <td>165.0</td>\n",
       "      <td>47.3</td>\n",
       "      <td>NaN</td>\n",
       "      <td>NaN</td>\n",
       "      <td>NaN</td>\n",
       "      <td>5.0</td>\n",
       "      <td>2018-09-09T00:00:00.000Z</td>\n",
       "      <td>NaN</td>\n",
       "      <td>NaN</td>\n",
       "      <td>NaN</td>\n",
       "    </tr>\n",
       "  </tbody>\n",
       "</table>\n",
       "</div>"
      ],
      "text/plain": [
       "   Year  Month                           Country Country Code  \\\n",
       "0  2019      1                            Rwanda           RW   \n",
       "1  2019      1                              Cuba           CU   \n",
       "2  2019      1  Bolivia (Plurinational State of)           BO   \n",
       "3  2019      1                            Mexico           MX   \n",
       "4  2019      1                            Sweden           SE   \n",
       "\n",
       "               Region         Subregion  Lower Total Seat  Lower Total Women  \\\n",
       "0  sub_saharan_africa    central_africa              80.0               49.0   \n",
       "1            americas         caribbean             605.0              322.0   \n",
       "2            americas     south_america             130.0               69.0   \n",
       "3            americas     north_america             500.0              241.0   \n",
       "4              europe  nordic_countries             349.0              165.0   \n",
       "\n",
       "   Lower Chamber Women (%)  Upper Total Seat  Upper Total Women  \\\n",
       "0                     61.3              26.0               10.0   \n",
       "1                     53.2               NaN                NaN   \n",
       "2                     53.1              36.0               17.0   \n",
       "3                     48.2             128.0               63.0   \n",
       "4                     47.3               NaN                NaN   \n",
       "\n",
       "   Upper Chamber Women (%)  Rank           lower_elec_from lower_elec_to  \\\n",
       "0                     38.5   1.0  2018-09-03T00:00:00.000Z           NaN   \n",
       "1                      NaN   2.0  2018-03-11T00:00:00.000Z           NaN   \n",
       "2                     47.2   3.0  2014-10-12T00:00:00.000Z           NaN   \n",
       "3                     49.2   4.0  2018-07-01T00:00:00.000Z           NaN   \n",
       "4                      NaN   5.0  2018-09-09T00:00:00.000Z           NaN   \n",
       "\n",
       "            upper_elec_from             upper_elec_to  \n",
       "0  2011-09-26T00:00:00.000Z  2011-09-27T00:00:00.000Z  \n",
       "1                       NaN                       NaN  \n",
       "2  2014-10-12T00:00:00.000Z                       NaN  \n",
       "3  2018-07-01T00:00:00.000Z                       NaN  \n",
       "4                       NaN                       NaN  "
      ]
     },
     "execution_count": 3,
     "metadata": {},
     "output_type": "execute_result"
    }
   ],
   "source": [
    "parliament_df = pd.read_csv('women_representation_2019_2025_v2.csv')\n",
    "parliament_df.head()"
   ]
  },
  {
   "cell_type": "code",
   "execution_count": 4,
   "metadata": {},
   "outputs": [
    {
     "data": {
      "text/plain": [
       "(14089, 17)"
      ]
     },
     "execution_count": 4,
     "metadata": {},
     "output_type": "execute_result"
    }
   ],
   "source": [
    "parliament_df.shape"
   ]
  },
  {
   "cell_type": "code",
   "execution_count": 5,
   "metadata": {},
   "outputs": [
    {
     "name": "stdout",
     "output_type": "stream",
     "text": [
      "<class 'pandas.core.frame.DataFrame'>\n",
      "RangeIndex: 14089 entries, 0 to 14088\n",
      "Data columns (total 17 columns):\n",
      " #   Column                   Non-Null Count  Dtype  \n",
      "---  ------                   --------------  -----  \n",
      " 0   Year                     14089 non-null  int64  \n",
      " 1   Month                    14089 non-null  int64  \n",
      " 2   Country                  14089 non-null  object \n",
      " 3   Country Code             14016 non-null  object \n",
      " 4   Region                   14089 non-null  object \n",
      " 5   Subregion                14089 non-null  object \n",
      " 6   Lower Total Seat         13760 non-null  float64\n",
      " 7   Lower Total Women        13758 non-null  float64\n",
      " 8   Lower Chamber Women (%)  13758 non-null  float64\n",
      " 9   Upper Total Seat         5755 non-null   float64\n",
      " 10  Upper Total Women        5755 non-null   float64\n",
      " 11  Upper Chamber Women (%)  5755 non-null   float64\n",
      " 12  Rank                     13758 non-null  float64\n",
      " 13  lower_elec_from          13952 non-null  object \n",
      " 14  lower_elec_to            1928 non-null   object \n",
      " 15  upper_elec_from          5344 non-null   object \n",
      " 16  upper_elec_to            783 non-null    object \n",
      "dtypes: float64(7), int64(2), object(8)\n",
      "memory usage: 1.8+ MB\n"
     ]
    }
   ],
   "source": [
    "parliament_df.info()"
   ]
  },
  {
   "cell_type": "code",
   "execution_count": 6,
   "metadata": {},
   "outputs": [
    {
     "data": {
      "text/plain": [
       "Year                           0\n",
       "Month                          0\n",
       "Country                        0\n",
       "Country Code                  73\n",
       "Region                         0\n",
       "Subregion                      0\n",
       "Lower Total Seat             329\n",
       "Lower Total Women            331\n",
       "Lower Chamber Women (%)      331\n",
       "Upper Total Seat            8334\n",
       "Upper Total Women           8334\n",
       "Upper Chamber Women (%)     8334\n",
       "Rank                         331\n",
       "lower_elec_from              137\n",
       "lower_elec_to              12161\n",
       "upper_elec_from             8745\n",
       "upper_elec_to              13306\n",
       "dtype: int64"
      ]
     },
     "execution_count": 6,
     "metadata": {},
     "output_type": "execute_result"
    }
   ],
   "source": [
    "parliament_df.isna().sum()"
   ]
  },
  {
   "cell_type": "code",
   "execution_count": 7,
   "metadata": {},
   "outputs": [
    {
     "name": "stdout",
     "output_type": "stream",
     "text": [
      "       Country Country Code\n",
      "6      Namibia          NaN\n",
      "199    Namibia          NaN\n",
      "392    Namibia          NaN\n",
      "585    Namibia          NaN\n",
      "780    Namibia          NaN\n",
      "...        ...          ...\n",
      "13129  Namibia          NaN\n",
      "13322  Namibia          NaN\n",
      "13515  Namibia          NaN\n",
      "13726  Namibia          NaN\n",
      "13920  Namibia          NaN\n",
      "\n",
      "[73 rows x 2 columns]\n"
     ]
    }
   ],
   "source": [
    "missing_country_code = parliament_df[parliament_df['Country Code'].isna()]\n",
    "print(missing_country_code[['Country', 'Country Code']])"
   ]
  },
  {
   "cell_type": "code",
   "execution_count": 8,
   "metadata": {},
   "outputs": [
    {
     "data": {
      "text/plain": [
       "Year                           0\n",
       "Month                          0\n",
       "Country                        0\n",
       "Country Code                   0\n",
       "Region                         0\n",
       "Subregion                      0\n",
       "Lower Total Seat             329\n",
       "Lower Total Women            331\n",
       "Lower Chamber Women (%)      331\n",
       "Upper Total Seat            8334\n",
       "Upper Total Women           8334\n",
       "Upper Chamber Women (%)     8334\n",
       "Rank                         331\n",
       "lower_elec_from              137\n",
       "lower_elec_to              12161\n",
       "upper_elec_from             8745\n",
       "upper_elec_to              13306\n",
       "dtype: int64"
      ]
     },
     "execution_count": 8,
     "metadata": {},
     "output_type": "execute_result"
    }
   ],
   "source": [
    "# Original country code for Namibia is NA leading to confusion with NAN in pandas, change to NB\n",
    "parliament_df.loc[parliament_df['Country'] == 'Namibia', 'Country Code'] = 'NB'\n",
    "parliament_df.isna().sum()"
   ]
  },
  {
   "cell_type": "code",
   "execution_count": 9,
   "metadata": {},
   "outputs": [
    {
     "data": {
      "text/html": [
       "<div>\n",
       "<style scoped>\n",
       "    .dataframe tbody tr th:only-of-type {\n",
       "        vertical-align: middle;\n",
       "    }\n",
       "\n",
       "    .dataframe tbody tr th {\n",
       "        vertical-align: top;\n",
       "    }\n",
       "\n",
       "    .dataframe thead th {\n",
       "        text-align: right;\n",
       "    }\n",
       "</style>\n",
       "<table border=\"1\" class=\"dataframe\">\n",
       "  <thead>\n",
       "    <tr style=\"text-align: right;\">\n",
       "      <th></th>\n",
       "      <th>Year</th>\n",
       "      <th>Month</th>\n",
       "      <th>Country</th>\n",
       "      <th>Structure of Parliament</th>\n",
       "      <th>Transitional Status</th>\n",
       "      <th>Gender Equality</th>\n",
       "      <th>Themes</th>\n",
       "      <th>Gender Quota</th>\n",
       "    </tr>\n",
       "  </thead>\n",
       "  <tbody>\n",
       "    <tr>\n",
       "      <th>0</th>\n",
       "      <td>2019</td>\n",
       "      <td>1</td>\n",
       "      <td>Afghanistan</td>\n",
       "      <td>bicameral</td>\n",
       "      <td>False</td>\n",
       "      <td>yes</td>\n",
       "      <td>defence</td>\n",
       "      <td>No</td>\n",
       "    </tr>\n",
       "    <tr>\n",
       "      <th>1</th>\n",
       "      <td>2019</td>\n",
       "      <td>1</td>\n",
       "      <td>Afghanistan</td>\n",
       "      <td>bicameral</td>\n",
       "      <td>False</td>\n",
       "      <td>yes</td>\n",
       "      <td>foreign_affairs</td>\n",
       "      <td>No</td>\n",
       "    </tr>\n",
       "    <tr>\n",
       "      <th>2</th>\n",
       "      <td>2019</td>\n",
       "      <td>1</td>\n",
       "      <td>Afghanistan</td>\n",
       "      <td>bicameral</td>\n",
       "      <td>False</td>\n",
       "      <td>yes</td>\n",
       "      <td>finance</td>\n",
       "      <td>No</td>\n",
       "    </tr>\n",
       "    <tr>\n",
       "      <th>3</th>\n",
       "      <td>2019</td>\n",
       "      <td>1</td>\n",
       "      <td>Afghanistan</td>\n",
       "      <td>bicameral</td>\n",
       "      <td>False</td>\n",
       "      <td>yes</td>\n",
       "      <td>gender_equality</td>\n",
       "      <td>No</td>\n",
       "    </tr>\n",
       "    <tr>\n",
       "      <th>4</th>\n",
       "      <td>2019</td>\n",
       "      <td>1</td>\n",
       "      <td>Afghanistan</td>\n",
       "      <td>bicameral</td>\n",
       "      <td>False</td>\n",
       "      <td>yes</td>\n",
       "      <td>human_rights</td>\n",
       "      <td>No</td>\n",
       "    </tr>\n",
       "  </tbody>\n",
       "</table>\n",
       "</div>"
      ],
      "text/plain": [
       "   Year  Month      Country Structure of Parliament Transitional Status  \\\n",
       "0  2019      1  Afghanistan               bicameral               False   \n",
       "1  2019      1  Afghanistan               bicameral               False   \n",
       "2  2019      1  Afghanistan               bicameral               False   \n",
       "3  2019      1  Afghanistan               bicameral               False   \n",
       "4  2019      1  Afghanistan               bicameral               False   \n",
       "\n",
       "  Gender Equality           Themes Gender Quota  \n",
       "0             yes          defence           No  \n",
       "1             yes  foreign_affairs           No  \n",
       "2             yes          finance           No  \n",
       "3             yes  gender_equality           No  \n",
       "4             yes     human_rights           No  "
      ]
     },
     "execution_count": 9,
     "metadata": {},
     "output_type": "execute_result"
    }
   ],
   "source": [
    "parliament_meta_data_1 = pd.read_csv('ipu_wip_meta_data_1.csv')\n",
    "parliament_meta_data_1.head()"
   ]
  },
  {
   "cell_type": "code",
   "execution_count": 10,
   "metadata": {},
   "outputs": [
    {
     "data": {
      "text/html": [
       "<div>\n",
       "<style scoped>\n",
       "    .dataframe tbody tr th:only-of-type {\n",
       "        vertical-align: middle;\n",
       "    }\n",
       "\n",
       "    .dataframe tbody tr th {\n",
       "        vertical-align: top;\n",
       "    }\n",
       "\n",
       "    .dataframe thead th {\n",
       "        text-align: right;\n",
       "    }\n",
       "</style>\n",
       "<table border=\"1\" class=\"dataframe\">\n",
       "  <thead>\n",
       "    <tr style=\"text-align: right;\">\n",
       "      <th></th>\n",
       "      <th>Year</th>\n",
       "      <th>Month</th>\n",
       "      <th>Country</th>\n",
       "      <th>Suspended Parliament</th>\n",
       "      <th>Structure of Parliament</th>\n",
       "      <th>Region</th>\n",
       "      <th>IPU Membership</th>\n",
       "      <th>Population in thousands</th>\n",
       "      <th>Men Number</th>\n",
       "      <th>Women Number</th>\n",
       "      <th>Women Percent</th>\n",
       "      <th>Political System</th>\n",
       "    </tr>\n",
       "  </thead>\n",
       "  <tbody>\n",
       "    <tr>\n",
       "      <th>0</th>\n",
       "      <td>2019</td>\n",
       "      <td>1</td>\n",
       "      <td>Afghanistan</td>\n",
       "      <td>False</td>\n",
       "      <td>bicameral</td>\n",
       "      <td>asia</td>\n",
       "      <td>True</td>\n",
       "      <td>33736</td>\n",
       "      <td>153.0</td>\n",
       "      <td>59.0</td>\n",
       "      <td>27.830189</td>\n",
       "      <td>presidential_system</td>\n",
       "    </tr>\n",
       "    <tr>\n",
       "      <th>1</th>\n",
       "      <td>2019</td>\n",
       "      <td>1</td>\n",
       "      <td>Afghanistan</td>\n",
       "      <td>False</td>\n",
       "      <td>bicameral</td>\n",
       "      <td>asia</td>\n",
       "      <td>True</td>\n",
       "      <td>33736</td>\n",
       "      <td>NaN</td>\n",
       "      <td>16.0</td>\n",
       "      <td>23.529412</td>\n",
       "      <td>presidential_system</td>\n",
       "    </tr>\n",
       "    <tr>\n",
       "      <th>2</th>\n",
       "      <td>2019</td>\n",
       "      <td>1</td>\n",
       "      <td>Albania</td>\n",
       "      <td>False</td>\n",
       "      <td>unicameral</td>\n",
       "      <td>europe</td>\n",
       "      <td>True</td>\n",
       "      <td>2923</td>\n",
       "      <td>99.0</td>\n",
       "      <td>41.0</td>\n",
       "      <td>29.285714</td>\n",
       "      <td>parliamentary_system</td>\n",
       "    </tr>\n",
       "    <tr>\n",
       "      <th>3</th>\n",
       "      <td>2019</td>\n",
       "      <td>1</td>\n",
       "      <td>Algeria</td>\n",
       "      <td>False</td>\n",
       "      <td>bicameral</td>\n",
       "      <td>middle_east_and_north_africa</td>\n",
       "      <td>True</td>\n",
       "      <td>39872</td>\n",
       "      <td>NaN</td>\n",
       "      <td>119.0</td>\n",
       "      <td>25.757576</td>\n",
       "      <td>presidential_parliamentary</td>\n",
       "    </tr>\n",
       "    <tr>\n",
       "      <th>4</th>\n",
       "      <td>2019</td>\n",
       "      <td>1</td>\n",
       "      <td>Algeria</td>\n",
       "      <td>False</td>\n",
       "      <td>bicameral</td>\n",
       "      <td>middle_east_and_north_africa</td>\n",
       "      <td>True</td>\n",
       "      <td>39872</td>\n",
       "      <td>123.0</td>\n",
       "      <td>9.0</td>\n",
       "      <td>6.818182</td>\n",
       "      <td>presidential_parliamentary</td>\n",
       "    </tr>\n",
       "  </tbody>\n",
       "</table>\n",
       "</div>"
      ],
      "text/plain": [
       "   Year  Month      Country Suspended Parliament Structure of Parliament  \\\n",
       "0  2019      1  Afghanistan                False               bicameral   \n",
       "1  2019      1  Afghanistan                False               bicameral   \n",
       "2  2019      1      Albania                False              unicameral   \n",
       "3  2019      1      Algeria                False               bicameral   \n",
       "4  2019      1      Algeria                False               bicameral   \n",
       "\n",
       "                         Region  IPU Membership  Population in thousands  \\\n",
       "0                          asia            True                    33736   \n",
       "1                          asia            True                    33736   \n",
       "2                        europe            True                     2923   \n",
       "3  middle_east_and_north_africa            True                    39872   \n",
       "4  middle_east_and_north_africa            True                    39872   \n",
       "\n",
       "   Men Number  Women Number  Women Percent            Political System  \n",
       "0       153.0          59.0      27.830189         presidential_system  \n",
       "1         NaN          16.0      23.529412         presidential_system  \n",
       "2        99.0          41.0      29.285714        parliamentary_system  \n",
       "3         NaN         119.0      25.757576  presidential_parliamentary  \n",
       "4       123.0           9.0       6.818182  presidential_parliamentary  "
      ]
     },
     "execution_count": 10,
     "metadata": {},
     "output_type": "execute_result"
    }
   ],
   "source": [
    "parliament_meta_data_2 = pd.read_csv('ipu_wip_meta_data_2.csv')\n",
    "parliament_meta_data_2.head()"
   ]
  },
  {
   "cell_type": "code",
   "execution_count": 11,
   "metadata": {},
   "outputs": [
    {
     "name": "stdout",
     "output_type": "stream",
     "text": [
      "Common countries across all datasets: 185\n",
      "Countries missing in df1: {'Turkey', 'The former Yugoslav Republic of Macedonia', 'Czech Republic'}\n",
      "Countries missing in df2: {'Saint Lucia', 'Eritrea', 'Antigua and Barbuda', 'Guinea-Bissau', 'Yemen', 'Saint Kitts and Nevis', 'Venezuela (Bolivarian Republic of)', 'Brunei Darussalam'}\n",
      "There are discrepancies in the countries across datasets.\n"
     ]
    }
   ],
   "source": [
    "# Get the unique list of countries from each dataset\n",
    "countries_df1 = set(parliament_df[\"Country\"].unique())\n",
    "countries_df2 = set(parliament_meta_data_1[\"Country\"].unique())\n",
    "countries_df3 = set(parliament_meta_data_2[\"Country\"].unique())\n",
    "\n",
    "# Find countries present in all datasets\n",
    "common_countries = countries_df1 & countries_df2 & countries_df3\n",
    "print(f\"Common countries across all datasets: {len(common_countries)}\")\n",
    "\n",
    "# Check if any country is missing from each dataset\n",
    "missing_in_df1 = countries_df2.union(countries_df3) - countries_df1\n",
    "missing_in_df2 = countries_df1.union(countries_df3) - countries_df2\n",
    "missing_in_df3 = countries_df1.union(countries_df2) - countries_df3\n",
    "\n",
    "# Print results\n",
    "if missing_in_df1:\n",
    "    print(f\"Countries missing in df1: {missing_in_df1}\")\n",
    "if missing_in_df2:\n",
    "    print(f\"Countries missing in df2: {missing_in_df2}\")\n",
    "if missing_in_df3:\n",
    "    print(f\"Countries missing in df3: {missing_in_df3}\")\n",
    "\n",
    "# Verify if all datasets have the same number of unique countries\n",
    "if len(countries_df1) == len(countries_df2) == len(countries_df3) == len(common_countries):\n",
    "    print(\"All datasets have the same countries with consistent spelling.\")\n",
    "else:\n",
    "    print(\"There are discrepancies in the countries across datasets.\")"
   ]
  },
  {
   "cell_type": "code",
   "execution_count": 12,
   "metadata": {},
   "outputs": [],
   "source": [
    "# drop the duplicated columns, keep the rows which have most non null count\n",
    "# Create a column to count non-null values in each row\n",
    "parliament_meta_data_1['non_null_count'] = parliament_meta_data_1.notnull().sum(axis=1)\n",
    "\n",
    "# Sort by 'Year', 'Month', 'Country' and the non_null_count (descending)\n",
    "parliament_meta_data_1 = parliament_meta_data_1.sort_values(\n",
    "    by=['Year', 'Month', 'Country', 'non_null_count'], \n",
    "    ascending=[True, True, True, False]\n",
    ")\n",
    "\n",
    "# Drop duplicates, keeping the row with the most non-null values\n",
    "parliament_meta_data_1 = parliament_meta_data_1.drop_duplicates(subset=['Year', 'Month', 'Country'], keep='first')\n",
    "\n",
    "# Drop the helper column as it's no longer needed\n",
    "parliament_meta_data_1.drop(columns=['non_null_count'], inplace=True)\n"
   ]
  },
  {
   "cell_type": "code",
   "execution_count": 13,
   "metadata": {},
   "outputs": [],
   "source": [
    "# Create a column to count non-null values in each row\n",
    "parliament_meta_data_2['non_null_count'] = parliament_meta_data_2.notnull().sum(axis=1)\n",
    "\n",
    "# Sort by 'Year', 'Month', 'Country' and the non_null_count (descending)\n",
    "parliament_meta_data_2 = parliament_meta_data_2.sort_values(\n",
    "    by=['Year', 'Month', 'Country', 'non_null_count'], \n",
    "    ascending=[True, True, True, False]\n",
    ")\n",
    "\n",
    "# Drop duplicates, keeping the row with the most non-null values\n",
    "parliament_meta_data_2 = parliament_meta_data_2.drop_duplicates(subset=['Year', 'Month', 'Country'], keep='first')\n",
    "\n",
    "# Drop the helper column as it's no longer needed\n",
    "parliament_meta_data_2.drop(columns=['non_null_count'], inplace=True)\n",
    "\n",
    "# #check duplicated rowf from meta data 2 before merge\n",
    "# duplicates_meta = parliament_meta_data_2[parliament_meta_data_2.duplicated(subset=['Year', 'Month', 'Country'], keep=False)]\n",
    "# duplicates_meta.head()\n",
    "# found there are many duplicated rows and will be removed before merging"
   ]
  },
  {
   "cell_type": "code",
   "execution_count": 14,
   "metadata": {},
   "outputs": [
    {
     "data": {
      "text/html": [
       "<div>\n",
       "<style scoped>\n",
       "    .dataframe tbody tr th:only-of-type {\n",
       "        vertical-align: middle;\n",
       "    }\n",
       "\n",
       "    .dataframe tbody tr th {\n",
       "        vertical-align: top;\n",
       "    }\n",
       "\n",
       "    .dataframe thead th {\n",
       "        text-align: right;\n",
       "    }\n",
       "</style>\n",
       "<table border=\"1\" class=\"dataframe\">\n",
       "  <thead>\n",
       "    <tr style=\"text-align: right;\">\n",
       "      <th></th>\n",
       "      <th>Year</th>\n",
       "      <th>Month</th>\n",
       "      <th>Country</th>\n",
       "      <th>Country Code</th>\n",
       "      <th>Region</th>\n",
       "      <th>Subregion</th>\n",
       "      <th>Lower Total Seat</th>\n",
       "      <th>Lower Total Women</th>\n",
       "      <th>Lower Chamber Women (%)</th>\n",
       "      <th>Upper Total Seat</th>\n",
       "      <th>...</th>\n",
       "      <th>Population in thousands</th>\n",
       "      <th>Men Number</th>\n",
       "      <th>Women Number</th>\n",
       "      <th>Women Percent</th>\n",
       "      <th>Political System</th>\n",
       "      <th>Structure of Parliament_meta1</th>\n",
       "      <th>Transitional Status</th>\n",
       "      <th>Gender Equality</th>\n",
       "      <th>Themes</th>\n",
       "      <th>Gender Quota</th>\n",
       "    </tr>\n",
       "  </thead>\n",
       "  <tbody>\n",
       "    <tr>\n",
       "      <th>0</th>\n",
       "      <td>2019</td>\n",
       "      <td>1</td>\n",
       "      <td>Rwanda</td>\n",
       "      <td>RW</td>\n",
       "      <td>sub_saharan_africa</td>\n",
       "      <td>central_africa</td>\n",
       "      <td>80.0</td>\n",
       "      <td>49.0</td>\n",
       "      <td>61.3</td>\n",
       "      <td>26.0</td>\n",
       "      <td>...</td>\n",
       "      <td>11630.0</td>\n",
       "      <td>31.0</td>\n",
       "      <td>49.0</td>\n",
       "      <td>61.250000</td>\n",
       "      <td>presidential_parliamentary</td>\n",
       "      <td>bicameral</td>\n",
       "      <td>False</td>\n",
       "      <td>no</td>\n",
       "      <td>womens_caucus</td>\n",
       "      <td>Yes</td>\n",
       "    </tr>\n",
       "    <tr>\n",
       "      <th>1</th>\n",
       "      <td>2019</td>\n",
       "      <td>1</td>\n",
       "      <td>Cuba</td>\n",
       "      <td>CU</td>\n",
       "      <td>americas</td>\n",
       "      <td>caribbean</td>\n",
       "      <td>605.0</td>\n",
       "      <td>322.0</td>\n",
       "      <td>53.2</td>\n",
       "      <td>NaN</td>\n",
       "      <td>...</td>\n",
       "      <td>11461.0</td>\n",
       "      <td>NaN</td>\n",
       "      <td>322.0</td>\n",
       "      <td>53.223140</td>\n",
       "      <td>communist_system</td>\n",
       "      <td>unicameral</td>\n",
       "      <td>False</td>\n",
       "      <td>yes</td>\n",
       "      <td>finance</td>\n",
       "      <td>No</td>\n",
       "    </tr>\n",
       "    <tr>\n",
       "      <th>2</th>\n",
       "      <td>2019</td>\n",
       "      <td>1</td>\n",
       "      <td>Bolivia (Plurinational State of)</td>\n",
       "      <td>BO</td>\n",
       "      <td>americas</td>\n",
       "      <td>south_america</td>\n",
       "      <td>130.0</td>\n",
       "      <td>69.0</td>\n",
       "      <td>53.1</td>\n",
       "      <td>36.0</td>\n",
       "      <td>...</td>\n",
       "      <td>10725.0</td>\n",
       "      <td>NaN</td>\n",
       "      <td>69.0</td>\n",
       "      <td>53.076923</td>\n",
       "      <td>presidential_system</td>\n",
       "      <td>bicameral</td>\n",
       "      <td>False</td>\n",
       "      <td>yes</td>\n",
       "      <td>defence</td>\n",
       "      <td>Yes</td>\n",
       "    </tr>\n",
       "    <tr>\n",
       "      <th>3</th>\n",
       "      <td>2019</td>\n",
       "      <td>1</td>\n",
       "      <td>Mexico</td>\n",
       "      <td>MX</td>\n",
       "      <td>americas</td>\n",
       "      <td>north_america</td>\n",
       "      <td>500.0</td>\n",
       "      <td>241.0</td>\n",
       "      <td>48.2</td>\n",
       "      <td>128.0</td>\n",
       "      <td>...</td>\n",
       "      <td>125891.0</td>\n",
       "      <td>259.0</td>\n",
       "      <td>241.0</td>\n",
       "      <td>48.200000</td>\n",
       "      <td>presidential_system</td>\n",
       "      <td>bicameral</td>\n",
       "      <td>False</td>\n",
       "      <td>yes</td>\n",
       "      <td>finance</td>\n",
       "      <td>Yes</td>\n",
       "    </tr>\n",
       "    <tr>\n",
       "      <th>4</th>\n",
       "      <td>2019</td>\n",
       "      <td>1</td>\n",
       "      <td>Sweden</td>\n",
       "      <td>SE</td>\n",
       "      <td>europe</td>\n",
       "      <td>nordic_countries</td>\n",
       "      <td>349.0</td>\n",
       "      <td>165.0</td>\n",
       "      <td>47.3</td>\n",
       "      <td>NaN</td>\n",
       "      <td>...</td>\n",
       "      <td>9764.0</td>\n",
       "      <td>184.0</td>\n",
       "      <td>165.0</td>\n",
       "      <td>47.277937</td>\n",
       "      <td>parliamentary_system</td>\n",
       "      <td>unicameral</td>\n",
       "      <td>False</td>\n",
       "      <td>yes</td>\n",
       "      <td>gender_equality</td>\n",
       "      <td>Yes</td>\n",
       "    </tr>\n",
       "  </tbody>\n",
       "</table>\n",
       "<p>5 rows × 31 columns</p>\n",
       "</div>"
      ],
      "text/plain": [
       "   Year  Month                           Country Country Code  \\\n",
       "0  2019      1                            Rwanda           RW   \n",
       "1  2019      1                              Cuba           CU   \n",
       "2  2019      1  Bolivia (Plurinational State of)           BO   \n",
       "3  2019      1                            Mexico           MX   \n",
       "4  2019      1                            Sweden           SE   \n",
       "\n",
       "               Region         Subregion  Lower Total Seat  Lower Total Women  \\\n",
       "0  sub_saharan_africa    central_africa              80.0               49.0   \n",
       "1            americas         caribbean             605.0              322.0   \n",
       "2            americas     south_america             130.0               69.0   \n",
       "3            americas     north_america             500.0              241.0   \n",
       "4              europe  nordic_countries             349.0              165.0   \n",
       "\n",
       "   Lower Chamber Women (%)  Upper Total Seat  ...  Population in thousands  \\\n",
       "0                     61.3              26.0  ...                  11630.0   \n",
       "1                     53.2               NaN  ...                  11461.0   \n",
       "2                     53.1              36.0  ...                  10725.0   \n",
       "3                     48.2             128.0  ...                 125891.0   \n",
       "4                     47.3               NaN  ...                   9764.0   \n",
       "\n",
       "   Men Number  Women Number Women Percent            Political System  \\\n",
       "0        31.0          49.0     61.250000  presidential_parliamentary   \n",
       "1         NaN         322.0     53.223140            communist_system   \n",
       "2         NaN          69.0     53.076923         presidential_system   \n",
       "3       259.0         241.0     48.200000         presidential_system   \n",
       "4       184.0         165.0     47.277937        parliamentary_system   \n",
       "\n",
       "  Structure of Parliament_meta1 Transitional Status Gender Equality  \\\n",
       "0                     bicameral               False              no   \n",
       "1                    unicameral               False             yes   \n",
       "2                     bicameral               False             yes   \n",
       "3                     bicameral               False             yes   \n",
       "4                    unicameral               False             yes   \n",
       "\n",
       "            Themes Gender Quota  \n",
       "0    womens_caucus          Yes  \n",
       "1          finance           No  \n",
       "2          defence          Yes  \n",
       "3          finance          Yes  \n",
       "4  gender_equality          Yes  \n",
       "\n",
       "[5 rows x 31 columns]"
      ]
     },
     "execution_count": 14,
     "metadata": {},
     "output_type": "execute_result"
    }
   ],
   "source": [
    "merged_df = parliament_df.merge(parliament_meta_data_2, \n",
    "                                 on=['Year', 'Month', 'Country'], \n",
    "                                 how='left', \n",
    "                                 suffixes=('', '_meta2')).merge(parliament_meta_data_1, on=['Year', 'Month', 'Country'],\n",
    "                                                                     how='left', suffixes=('_meta2', '_meta1'))\n",
    "merged_df.head()"
   ]
  },
  {
   "cell_type": "code",
   "execution_count": 15,
   "metadata": {},
   "outputs": [
    {
     "name": "stdout",
     "output_type": "stream",
     "text": [
      "['Year', 'Month', 'Country', 'Country Code', 'Region', 'Subregion', 'Lower Total Seat', 'Lower Total Women', 'Lower Chamber Women (%)', 'Upper Total Seat', 'Upper Total Women', 'Upper Chamber Women (%)', 'Rank', 'lower_elec_from', 'lower_elec_to', 'upper_elec_from', 'upper_elec_to', 'Suspended Parliament', 'Structure of Parliament_meta2', 'Region_meta2', 'IPU Membership', 'Population in thousands', 'Men Number', 'Women Number', 'Women Percent', 'Political System', 'Structure of Parliament_meta1', 'Transitional Status', 'Gender Equality', 'Themes', 'Gender Quota']\n"
     ]
    }
   ],
   "source": [
    "merged_df.to_csv('merged_wip_meta_data.csv')\n",
    "print(list(merged_df.columns))"
   ]
  },
  {
   "cell_type": "code",
   "execution_count": 16,
   "metadata": {},
   "outputs": [],
   "source": [
    "# remove overlapping columns and unnecessary columns\n",
    "drop_col_list = ['lower_elec_from', 'lower_elec_to', 'upper_elec_from', 'upper_elec_to','Region_meta2',\n",
    "                 'Structure of Parliament_meta1','Men Number', 'Women Number', 'Women Percent']\n",
    "merged_df.drop(columns=drop_col_list,inplace=True)\n"
   ]
  },
  {
   "cell_type": "code",
   "execution_count": 17,
   "metadata": {},
   "outputs": [],
   "source": [
    "merged_df.rename(columns={'Structure of Parliament_meta2':'Structure of Parliament'},inplace=True)"
   ]
  },
  {
   "cell_type": "code",
   "execution_count": 18,
   "metadata": {},
   "outputs": [
    {
     "name": "stdout",
     "output_type": "stream",
     "text": [
      "['Year', 'Month', 'Country', 'Country Code', 'Region', 'Subregion', 'Lower Total Seat', 'Lower Total Women', 'Lower Chamber Women (%)', 'Upper Total Seat', 'Upper Total Women', 'Upper Chamber Women (%)', 'Rank', 'Suspended Parliament', 'Structure of Parliament', 'IPU Membership', 'Population in thousands', 'Political System', 'Transitional Status', 'Gender Equality', 'Themes', 'Gender Quota']\n"
     ]
    }
   ],
   "source": [
    "merged_df.shape\n",
    "print(list(merged_df.columns))"
   ]
  },
  {
   "cell_type": "code",
   "execution_count": 19,
   "metadata": {},
   "outputs": [
    {
     "name": "stdout",
     "output_type": "stream",
     "text": [
      "<class 'pandas.core.frame.DataFrame'>\n",
      "RangeIndex: 14089 entries, 0 to 14088\n",
      "Data columns (total 22 columns):\n",
      " #   Column                   Non-Null Count  Dtype  \n",
      "---  ------                   --------------  -----  \n",
      " 0   Year                     14089 non-null  int64  \n",
      " 1   Month                    14089 non-null  int64  \n",
      " 2   Country                  14089 non-null  object \n",
      " 3   Country Code             14089 non-null  object \n",
      " 4   Region                   14089 non-null  object \n",
      " 5   Subregion                14089 non-null  object \n",
      " 6   Lower Total Seat         13760 non-null  float64\n",
      " 7   Lower Total Women        13758 non-null  float64\n",
      " 8   Lower Chamber Women (%)  13758 non-null  float64\n",
      " 9   Upper Total Seat         5755 non-null   float64\n",
      " 10  Upper Total Women        5755 non-null   float64\n",
      " 11  Upper Chamber Women (%)  5755 non-null   float64\n",
      " 12  Rank                     13758 non-null  float64\n",
      " 13  Suspended Parliament     13987 non-null  object \n",
      " 14  Structure of Parliament  13987 non-null  object \n",
      " 15  IPU Membership           13987 non-null  object \n",
      " 16  Population in thousands  13987 non-null  float64\n",
      " 17  Political System         13987 non-null  object \n",
      " 18  Transitional Status      13297 non-null  object \n",
      " 19  Gender Equality          13329 non-null  object \n",
      " 20  Themes                   13329 non-null  object \n",
      " 21  Gender Quota             13329 non-null  object \n",
      "dtypes: float64(8), int64(2), object(12)\n",
      "memory usage: 2.4+ MB\n"
     ]
    }
   ],
   "source": [
    "merged_df.info()"
   ]
  },
  {
   "cell_type": "code",
   "execution_count": 20,
   "metadata": {},
   "outputs": [],
   "source": [
    "def fillna_with_mode(columns_to_fill, merged_df):\n",
    "    \n",
    "    # Step 1: Group data by Year and Country to identify fully missing years\n",
    "    missing_years = (\n",
    "        merged_df.groupby([\"Year\", \"Country\"])[columns_to_fill]\n",
    "        .apply(lambda group: group.isna().all(axis=0).any())  # True if any column is fully NaN for the year and country\n",
    "        .reset_index(name=\"Whole_Year_Missing\")\n",
    "    )\n",
    "\n",
    "    # Step 2: Fill partial missing values for the same year and country\n",
    "    for col in columns_to_fill:\n",
    "        merged_df[col] = (\n",
    "            merged_df.groupby([\"Year\", \"Country\"])[col]\n",
    "            .transform(lambda group: group.fillna(group.mode().iloc[0] if not group.mode().empty else np.nan))\n",
    "        )\n",
    "\n",
    "    # Step 3: Fill completely missing years with mode for the country (ignoring year)\n",
    "    for index, row in missing_years.iterrows():\n",
    "        year, country, whole_year_missing = row[\"Year\"], row[\"Country\"], row[\"Whole_Year_Missing\"]\n",
    "        \n",
    "        if whole_year_missing:\n",
    "            # Get mode for the country across all years\n",
    "            country_mode = (\n",
    "                merged_df[merged_df[\"Country\"] == country][columns_to_fill]\n",
    "                .mode()\n",
    "                .iloc[0]  # First mode if multiple\n",
    "            )\n",
    "            \n",
    "            # Fill missing values for the entire year\n",
    "            merged_df.loc[\n",
    "                (merged_df[\"Year\"] == year) & (merged_df[\"Country\"] == country),\n",
    "                columns_to_fill\n",
    "            ] = merged_df.loc[\n",
    "                (merged_df[\"Year\"] == year) & (merged_df[\"Country\"] == country),\n",
    "                columns_to_fill\n",
    "            ].fillna(country_mode)\n",
    "\n",
    "    return merged_df"
   ]
  },
  {
   "cell_type": "code",
   "execution_count": 21,
   "metadata": {},
   "outputs": [
    {
     "name": "stderr",
     "output_type": "stream",
     "text": [
      "C:\\Users\\nuwai\\AppData\\Local\\Temp\\ipykernel_17728\\2642625223.py:14: FutureWarning: Downcasting object dtype arrays on .fillna, .ffill, .bfill is deprecated and will change in a future version. Call result.infer_objects(copy=False) instead. To opt-in to the future behavior, set `pd.set_option('future.no_silent_downcasting', True)`\n",
      "  .transform(lambda group: group.fillna(group.mode().iloc[0] if not group.mode().empty else np.nan))\n"
     ]
    },
    {
     "name": "stdout",
     "output_type": "stream",
     "text": [
      "0\n"
     ]
    }
   ],
   "source": [
    "merged_df = fillna_with_mode(columns_to_fill=[\"Political System\"], merged_df=merged_df)\n",
    "print(merged_df[\"Political System\"].isna().sum())  # Should return 0 if all missing values are filled"
   ]
  },
  {
   "cell_type": "code",
   "execution_count": 22,
   "metadata": {},
   "outputs": [
    {
     "name": "stderr",
     "output_type": "stream",
     "text": [
      "C:\\Users\\nuwai\\AppData\\Local\\Temp\\ipykernel_17728\\2642625223.py:14: FutureWarning: Downcasting object dtype arrays on .fillna, .ffill, .bfill is deprecated and will change in a future version. Call result.infer_objects(copy=False) instead. To opt-in to the future behavior, set `pd.set_option('future.no_silent_downcasting', True)`\n",
      "  .transform(lambda group: group.fillna(group.mode().iloc[0] if not group.mode().empty else np.nan))\n"
     ]
    },
    {
     "name": "stdout",
     "output_type": "stream",
     "text": [
      "0\n"
     ]
    }
   ],
   "source": [
    "merged_df = fillna_with_mode(columns_to_fill=[\"Structure of Parliament\"], merged_df=merged_df)\n",
    "print(merged_df[\"Structure of Parliament\"].isna().sum())  # Should return 0 if all missing values are filled"
   ]
  },
  {
   "cell_type": "code",
   "execution_count": 23,
   "metadata": {},
   "outputs": [
    {
     "name": "stderr",
     "output_type": "stream",
     "text": [
      "C:\\Users\\nuwai\\AppData\\Local\\Temp\\ipykernel_17728\\2642625223.py:14: FutureWarning: Downcasting object dtype arrays on .fillna, .ffill, .bfill is deprecated and will change in a future version. Call result.infer_objects(copy=False) instead. To opt-in to the future behavior, set `pd.set_option('future.no_silent_downcasting', True)`\n",
      "  .transform(lambda group: group.fillna(group.mode().iloc[0] if not group.mode().empty else np.nan))\n",
      "C:\\Users\\nuwai\\AppData\\Local\\Temp\\ipykernel_17728\\2642625223.py:14: FutureWarning: Downcasting object dtype arrays on .fillna, .ffill, .bfill is deprecated and will change in a future version. Call result.infer_objects(copy=False) instead. To opt-in to the future behavior, set `pd.set_option('future.no_silent_downcasting', True)`\n",
      "  .transform(lambda group: group.fillna(group.mode().iloc[0] if not group.mode().empty else np.nan))\n",
      "C:\\Users\\nuwai\\AppData\\Local\\Temp\\ipykernel_17728\\2642625223.py:14: FutureWarning: Downcasting object dtype arrays on .fillna, .ffill, .bfill is deprecated and will change in a future version. Call result.infer_objects(copy=False) instead. To opt-in to the future behavior, set `pd.set_option('future.no_silent_downcasting', True)`\n",
      "  .transform(lambda group: group.fillna(group.mode().iloc[0] if not group.mode().empty else np.nan))\n",
      "C:\\Users\\nuwai\\AppData\\Local\\Temp\\ipykernel_17728\\2642625223.py:14: FutureWarning: Downcasting object dtype arrays on .fillna, .ffill, .bfill is deprecated and will change in a future version. Call result.infer_objects(copy=False) instead. To opt-in to the future behavior, set `pd.set_option('future.no_silent_downcasting', True)`\n",
      "  .transform(lambda group: group.fillna(group.mode().iloc[0] if not group.mode().empty else np.nan))\n",
      "C:\\Users\\nuwai\\AppData\\Local\\Temp\\ipykernel_17728\\2642625223.py:14: FutureWarning: Downcasting object dtype arrays on .fillna, .ffill, .bfill is deprecated and will change in a future version. Call result.infer_objects(copy=False) instead. To opt-in to the future behavior, set `pd.set_option('future.no_silent_downcasting', True)`\n",
      "  .transform(lambda group: group.fillna(group.mode().iloc[0] if not group.mode().empty else np.nan))\n",
      "C:\\Users\\nuwai\\AppData\\Local\\Temp\\ipykernel_17728\\2642625223.py:14: FutureWarning: Downcasting object dtype arrays on .fillna, .ffill, .bfill is deprecated and will change in a future version. Call result.infer_objects(copy=False) instead. To opt-in to the future behavior, set `pd.set_option('future.no_silent_downcasting', True)`\n",
      "  .transform(lambda group: group.fillna(group.mode().iloc[0] if not group.mode().empty else np.nan))\n",
      "C:\\Users\\nuwai\\AppData\\Local\\Temp\\ipykernel_17728\\2642625223.py:33: FutureWarning: Downcasting object dtype arrays on .fillna, .ffill, .bfill is deprecated and will change in a future version. Call result.infer_objects(copy=False) instead. To opt-in to the future behavior, set `pd.set_option('future.no_silent_downcasting', True)`\n",
      "  ] = merged_df.loc[\n",
      "C:\\Users\\nuwai\\AppData\\Local\\Temp\\ipykernel_17728\\2642625223.py:33: FutureWarning: Downcasting object dtype arrays on .fillna, .ffill, .bfill is deprecated and will change in a future version. Call result.infer_objects(copy=False) instead. To opt-in to the future behavior, set `pd.set_option('future.no_silent_downcasting', True)`\n",
      "  ] = merged_df.loc[\n",
      "C:\\Users\\nuwai\\AppData\\Local\\Temp\\ipykernel_17728\\2642625223.py:33: FutureWarning: Downcasting object dtype arrays on .fillna, .ffill, .bfill is deprecated and will change in a future version. Call result.infer_objects(copy=False) instead. To opt-in to the future behavior, set `pd.set_option('future.no_silent_downcasting', True)`\n",
      "  ] = merged_df.loc[\n",
      "C:\\Users\\nuwai\\AppData\\Local\\Temp\\ipykernel_17728\\2642625223.py:33: FutureWarning: Downcasting object dtype arrays on .fillna, .ffill, .bfill is deprecated and will change in a future version. Call result.infer_objects(copy=False) instead. To opt-in to the future behavior, set `pd.set_option('future.no_silent_downcasting', True)`\n",
      "  ] = merged_df.loc[\n",
      "C:\\Users\\nuwai\\AppData\\Local\\Temp\\ipykernel_17728\\2642625223.py:33: FutureWarning: Downcasting object dtype arrays on .fillna, .ffill, .bfill is deprecated and will change in a future version. Call result.infer_objects(copy=False) instead. To opt-in to the future behavior, set `pd.set_option('future.no_silent_downcasting', True)`\n",
      "  ] = merged_df.loc[\n",
      "C:\\Users\\nuwai\\AppData\\Local\\Temp\\ipykernel_17728\\2642625223.py:33: FutureWarning: Downcasting object dtype arrays on .fillna, .ffill, .bfill is deprecated and will change in a future version. Call result.infer_objects(copy=False) instead. To opt-in to the future behavior, set `pd.set_option('future.no_silent_downcasting', True)`\n",
      "  ] = merged_df.loc[\n",
      "C:\\Users\\nuwai\\AppData\\Local\\Temp\\ipykernel_17728\\2642625223.py:33: FutureWarning: Downcasting object dtype arrays on .fillna, .ffill, .bfill is deprecated and will change in a future version. Call result.infer_objects(copy=False) instead. To opt-in to the future behavior, set `pd.set_option('future.no_silent_downcasting', True)`\n",
      "  ] = merged_df.loc[\n",
      "C:\\Users\\nuwai\\AppData\\Local\\Temp\\ipykernel_17728\\2642625223.py:33: FutureWarning: Downcasting object dtype arrays on .fillna, .ffill, .bfill is deprecated and will change in a future version. Call result.infer_objects(copy=False) instead. To opt-in to the future behavior, set `pd.set_option('future.no_silent_downcasting', True)`\n",
      "  ] = merged_df.loc[\n",
      "C:\\Users\\nuwai\\AppData\\Local\\Temp\\ipykernel_17728\\2642625223.py:33: FutureWarning: Downcasting object dtype arrays on .fillna, .ffill, .bfill is deprecated and will change in a future version. Call result.infer_objects(copy=False) instead. To opt-in to the future behavior, set `pd.set_option('future.no_silent_downcasting', True)`\n",
      "  ] = merged_df.loc[\n",
      "C:\\Users\\nuwai\\AppData\\Local\\Temp\\ipykernel_17728\\2642625223.py:33: FutureWarning: Downcasting object dtype arrays on .fillna, .ffill, .bfill is deprecated and will change in a future version. Call result.infer_objects(copy=False) instead. To opt-in to the future behavior, set `pd.set_option('future.no_silent_downcasting', True)`\n",
      "  ] = merged_df.loc[\n",
      "C:\\Users\\nuwai\\AppData\\Local\\Temp\\ipykernel_17728\\2642625223.py:33: FutureWarning: Downcasting object dtype arrays on .fillna, .ffill, .bfill is deprecated and will change in a future version. Call result.infer_objects(copy=False) instead. To opt-in to the future behavior, set `pd.set_option('future.no_silent_downcasting', True)`\n",
      "  ] = merged_df.loc[\n",
      "C:\\Users\\nuwai\\AppData\\Local\\Temp\\ipykernel_17728\\2642625223.py:33: FutureWarning: Downcasting object dtype arrays on .fillna, .ffill, .bfill is deprecated and will change in a future version. Call result.infer_objects(copy=False) instead. To opt-in to the future behavior, set `pd.set_option('future.no_silent_downcasting', True)`\n",
      "  ] = merged_df.loc[\n",
      "C:\\Users\\nuwai\\AppData\\Local\\Temp\\ipykernel_17728\\2642625223.py:33: FutureWarning: Downcasting object dtype arrays on .fillna, .ffill, .bfill is deprecated and will change in a future version. Call result.infer_objects(copy=False) instead. To opt-in to the future behavior, set `pd.set_option('future.no_silent_downcasting', True)`\n",
      "  ] = merged_df.loc[\n",
      "C:\\Users\\nuwai\\AppData\\Local\\Temp\\ipykernel_17728\\2642625223.py:33: FutureWarning: Downcasting object dtype arrays on .fillna, .ffill, .bfill is deprecated and will change in a future version. Call result.infer_objects(copy=False) instead. To opt-in to the future behavior, set `pd.set_option('future.no_silent_downcasting', True)`\n",
      "  ] = merged_df.loc[\n",
      "C:\\Users\\nuwai\\AppData\\Local\\Temp\\ipykernel_17728\\2642625223.py:33: FutureWarning: Downcasting object dtype arrays on .fillna, .ffill, .bfill is deprecated and will change in a future version. Call result.infer_objects(copy=False) instead. To opt-in to the future behavior, set `pd.set_option('future.no_silent_downcasting', True)`\n",
      "  ] = merged_df.loc[\n",
      "C:\\Users\\nuwai\\AppData\\Local\\Temp\\ipykernel_17728\\2642625223.py:33: FutureWarning: Downcasting object dtype arrays on .fillna, .ffill, .bfill is deprecated and will change in a future version. Call result.infer_objects(copy=False) instead. To opt-in to the future behavior, set `pd.set_option('future.no_silent_downcasting', True)`\n",
      "  ] = merged_df.loc[\n",
      "C:\\Users\\nuwai\\AppData\\Local\\Temp\\ipykernel_17728\\2642625223.py:33: FutureWarning: Downcasting object dtype arrays on .fillna, .ffill, .bfill is deprecated and will change in a future version. Call result.infer_objects(copy=False) instead. To opt-in to the future behavior, set `pd.set_option('future.no_silent_downcasting', True)`\n",
      "  ] = merged_df.loc[\n",
      "C:\\Users\\nuwai\\AppData\\Local\\Temp\\ipykernel_17728\\2642625223.py:33: FutureWarning: Downcasting object dtype arrays on .fillna, .ffill, .bfill is deprecated and will change in a future version. Call result.infer_objects(copy=False) instead. To opt-in to the future behavior, set `pd.set_option('future.no_silent_downcasting', True)`\n",
      "  ] = merged_df.loc[\n",
      "C:\\Users\\nuwai\\AppData\\Local\\Temp\\ipykernel_17728\\2642625223.py:33: FutureWarning: Downcasting object dtype arrays on .fillna, .ffill, .bfill is deprecated and will change in a future version. Call result.infer_objects(copy=False) instead. To opt-in to the future behavior, set `pd.set_option('future.no_silent_downcasting', True)`\n",
      "  ] = merged_df.loc[\n",
      "C:\\Users\\nuwai\\AppData\\Local\\Temp\\ipykernel_17728\\2642625223.py:33: FutureWarning: Downcasting object dtype arrays on .fillna, .ffill, .bfill is deprecated and will change in a future version. Call result.infer_objects(copy=False) instead. To opt-in to the future behavior, set `pd.set_option('future.no_silent_downcasting', True)`\n",
      "  ] = merged_df.loc[\n",
      "C:\\Users\\nuwai\\AppData\\Local\\Temp\\ipykernel_17728\\2642625223.py:33: FutureWarning: Downcasting object dtype arrays on .fillna, .ffill, .bfill is deprecated and will change in a future version. Call result.infer_objects(copy=False) instead. To opt-in to the future behavior, set `pd.set_option('future.no_silent_downcasting', True)`\n",
      "  ] = merged_df.loc[\n",
      "C:\\Users\\nuwai\\AppData\\Local\\Temp\\ipykernel_17728\\2642625223.py:33: FutureWarning: Downcasting object dtype arrays on .fillna, .ffill, .bfill is deprecated and will change in a future version. Call result.infer_objects(copy=False) instead. To opt-in to the future behavior, set `pd.set_option('future.no_silent_downcasting', True)`\n",
      "  ] = merged_df.loc[\n",
      "C:\\Users\\nuwai\\AppData\\Local\\Temp\\ipykernel_17728\\2642625223.py:33: FutureWarning: Downcasting object dtype arrays on .fillna, .ffill, .bfill is deprecated and will change in a future version. Call result.infer_objects(copy=False) instead. To opt-in to the future behavior, set `pd.set_option('future.no_silent_downcasting', True)`\n",
      "  ] = merged_df.loc[\n",
      "C:\\Users\\nuwai\\AppData\\Local\\Temp\\ipykernel_17728\\2642625223.py:33: FutureWarning: Downcasting object dtype arrays on .fillna, .ffill, .bfill is deprecated and will change in a future version. Call result.infer_objects(copy=False) instead. To opt-in to the future behavior, set `pd.set_option('future.no_silent_downcasting', True)`\n",
      "  ] = merged_df.loc[\n",
      "C:\\Users\\nuwai\\AppData\\Local\\Temp\\ipykernel_17728\\2642625223.py:33: FutureWarning: Downcasting object dtype arrays on .fillna, .ffill, .bfill is deprecated and will change in a future version. Call result.infer_objects(copy=False) instead. To opt-in to the future behavior, set `pd.set_option('future.no_silent_downcasting', True)`\n",
      "  ] = merged_df.loc[\n",
      "C:\\Users\\nuwai\\AppData\\Local\\Temp\\ipykernel_17728\\2642625223.py:33: FutureWarning: Downcasting object dtype arrays on .fillna, .ffill, .bfill is deprecated and will change in a future version. Call result.infer_objects(copy=False) instead. To opt-in to the future behavior, set `pd.set_option('future.no_silent_downcasting', True)`\n",
      "  ] = merged_df.loc[\n",
      "C:\\Users\\nuwai\\AppData\\Local\\Temp\\ipykernel_17728\\2642625223.py:33: FutureWarning: Downcasting object dtype arrays on .fillna, .ffill, .bfill is deprecated and will change in a future version. Call result.infer_objects(copy=False) instead. To opt-in to the future behavior, set `pd.set_option('future.no_silent_downcasting', True)`\n",
      "  ] = merged_df.loc[\n",
      "C:\\Users\\nuwai\\AppData\\Local\\Temp\\ipykernel_17728\\2642625223.py:33: FutureWarning: Downcasting object dtype arrays on .fillna, .ffill, .bfill is deprecated and will change in a future version. Call result.infer_objects(copy=False) instead. To opt-in to the future behavior, set `pd.set_option('future.no_silent_downcasting', True)`\n",
      "  ] = merged_df.loc[\n",
      "C:\\Users\\nuwai\\AppData\\Local\\Temp\\ipykernel_17728\\2642625223.py:33: FutureWarning: Downcasting object dtype arrays on .fillna, .ffill, .bfill is deprecated and will change in a future version. Call result.infer_objects(copy=False) instead. To opt-in to the future behavior, set `pd.set_option('future.no_silent_downcasting', True)`\n",
      "  ] = merged_df.loc[\n",
      "C:\\Users\\nuwai\\AppData\\Local\\Temp\\ipykernel_17728\\2642625223.py:33: FutureWarning: Downcasting object dtype arrays on .fillna, .ffill, .bfill is deprecated and will change in a future version. Call result.infer_objects(copy=False) instead. To opt-in to the future behavior, set `pd.set_option('future.no_silent_downcasting', True)`\n",
      "  ] = merged_df.loc[\n",
      "C:\\Users\\nuwai\\AppData\\Local\\Temp\\ipykernel_17728\\2642625223.py:33: FutureWarning: Downcasting object dtype arrays on .fillna, .ffill, .bfill is deprecated and will change in a future version. Call result.infer_objects(copy=False) instead. To opt-in to the future behavior, set `pd.set_option('future.no_silent_downcasting', True)`\n",
      "  ] = merged_df.loc[\n",
      "C:\\Users\\nuwai\\AppData\\Local\\Temp\\ipykernel_17728\\2642625223.py:33: FutureWarning: Downcasting object dtype arrays on .fillna, .ffill, .bfill is deprecated and will change in a future version. Call result.infer_objects(copy=False) instead. To opt-in to the future behavior, set `pd.set_option('future.no_silent_downcasting', True)`\n",
      "  ] = merged_df.loc[\n",
      "C:\\Users\\nuwai\\AppData\\Local\\Temp\\ipykernel_17728\\2642625223.py:33: FutureWarning: Downcasting object dtype arrays on .fillna, .ffill, .bfill is deprecated and will change in a future version. Call result.infer_objects(copy=False) instead. To opt-in to the future behavior, set `pd.set_option('future.no_silent_downcasting', True)`\n",
      "  ] = merged_df.loc[\n",
      "C:\\Users\\nuwai\\AppData\\Local\\Temp\\ipykernel_17728\\2642625223.py:33: FutureWarning: Downcasting object dtype arrays on .fillna, .ffill, .bfill is deprecated and will change in a future version. Call result.infer_objects(copy=False) instead. To opt-in to the future behavior, set `pd.set_option('future.no_silent_downcasting', True)`\n",
      "  ] = merged_df.loc[\n",
      "C:\\Users\\nuwai\\AppData\\Local\\Temp\\ipykernel_17728\\2642625223.py:33: FutureWarning: Downcasting object dtype arrays on .fillna, .ffill, .bfill is deprecated and will change in a future version. Call result.infer_objects(copy=False) instead. To opt-in to the future behavior, set `pd.set_option('future.no_silent_downcasting', True)`\n",
      "  ] = merged_df.loc[\n",
      "C:\\Users\\nuwai\\AppData\\Local\\Temp\\ipykernel_17728\\2642625223.py:33: FutureWarning: Downcasting object dtype arrays on .fillna, .ffill, .bfill is deprecated and will change in a future version. Call result.infer_objects(copy=False) instead. To opt-in to the future behavior, set `pd.set_option('future.no_silent_downcasting', True)`\n",
      "  ] = merged_df.loc[\n",
      "C:\\Users\\nuwai\\AppData\\Local\\Temp\\ipykernel_17728\\2642625223.py:33: FutureWarning: Downcasting object dtype arrays on .fillna, .ffill, .bfill is deprecated and will change in a future version. Call result.infer_objects(copy=False) instead. To opt-in to the future behavior, set `pd.set_option('future.no_silent_downcasting', True)`\n",
      "  ] = merged_df.loc[\n",
      "C:\\Users\\nuwai\\AppData\\Local\\Temp\\ipykernel_17728\\2642625223.py:33: FutureWarning: Downcasting object dtype arrays on .fillna, .ffill, .bfill is deprecated and will change in a future version. Call result.infer_objects(copy=False) instead. To opt-in to the future behavior, set `pd.set_option('future.no_silent_downcasting', True)`\n",
      "  ] = merged_df.loc[\n",
      "C:\\Users\\nuwai\\AppData\\Local\\Temp\\ipykernel_17728\\2642625223.py:33: FutureWarning: Downcasting object dtype arrays on .fillna, .ffill, .bfill is deprecated and will change in a future version. Call result.infer_objects(copy=False) instead. To opt-in to the future behavior, set `pd.set_option('future.no_silent_downcasting', True)`\n",
      "  ] = merged_df.loc[\n",
      "C:\\Users\\nuwai\\AppData\\Local\\Temp\\ipykernel_17728\\2642625223.py:33: FutureWarning: Downcasting object dtype arrays on .fillna, .ffill, .bfill is deprecated and will change in a future version. Call result.infer_objects(copy=False) instead. To opt-in to the future behavior, set `pd.set_option('future.no_silent_downcasting', True)`\n",
      "  ] = merged_df.loc[\n",
      "C:\\Users\\nuwai\\AppData\\Local\\Temp\\ipykernel_17728\\2642625223.py:33: FutureWarning: Downcasting object dtype arrays on .fillna, .ffill, .bfill is deprecated and will change in a future version. Call result.infer_objects(copy=False) instead. To opt-in to the future behavior, set `pd.set_option('future.no_silent_downcasting', True)`\n",
      "  ] = merged_df.loc[\n",
      "C:\\Users\\nuwai\\AppData\\Local\\Temp\\ipykernel_17728\\2642625223.py:33: FutureWarning: Downcasting object dtype arrays on .fillna, .ffill, .bfill is deprecated and will change in a future version. Call result.infer_objects(copy=False) instead. To opt-in to the future behavior, set `pd.set_option('future.no_silent_downcasting', True)`\n",
      "  ] = merged_df.loc[\n",
      "C:\\Users\\nuwai\\AppData\\Local\\Temp\\ipykernel_17728\\2642625223.py:33: FutureWarning: Downcasting object dtype arrays on .fillna, .ffill, .bfill is deprecated and will change in a future version. Call result.infer_objects(copy=False) instead. To opt-in to the future behavior, set `pd.set_option('future.no_silent_downcasting', True)`\n",
      "  ] = merged_df.loc[\n",
      "C:\\Users\\nuwai\\AppData\\Local\\Temp\\ipykernel_17728\\2642625223.py:33: FutureWarning: Downcasting object dtype arrays on .fillna, .ffill, .bfill is deprecated and will change in a future version. Call result.infer_objects(copy=False) instead. To opt-in to the future behavior, set `pd.set_option('future.no_silent_downcasting', True)`\n",
      "  ] = merged_df.loc[\n",
      "C:\\Users\\nuwai\\AppData\\Local\\Temp\\ipykernel_17728\\2642625223.py:33: FutureWarning: Downcasting object dtype arrays on .fillna, .ffill, .bfill is deprecated and will change in a future version. Call result.infer_objects(copy=False) instead. To opt-in to the future behavior, set `pd.set_option('future.no_silent_downcasting', True)`\n",
      "  ] = merged_df.loc[\n",
      "C:\\Users\\nuwai\\AppData\\Local\\Temp\\ipykernel_17728\\2642625223.py:33: FutureWarning: Downcasting object dtype arrays on .fillna, .ffill, .bfill is deprecated and will change in a future version. Call result.infer_objects(copy=False) instead. To opt-in to the future behavior, set `pd.set_option('future.no_silent_downcasting', True)`\n",
      "  ] = merged_df.loc[\n",
      "C:\\Users\\nuwai\\AppData\\Local\\Temp\\ipykernel_17728\\2642625223.py:33: FutureWarning: Downcasting object dtype arrays on .fillna, .ffill, .bfill is deprecated and will change in a future version. Call result.infer_objects(copy=False) instead. To opt-in to the future behavior, set `pd.set_option('future.no_silent_downcasting', True)`\n",
      "  ] = merged_df.loc[\n",
      "C:\\Users\\nuwai\\AppData\\Local\\Temp\\ipykernel_17728\\2642625223.py:33: FutureWarning: Downcasting object dtype arrays on .fillna, .ffill, .bfill is deprecated and will change in a future version. Call result.infer_objects(copy=False) instead. To opt-in to the future behavior, set `pd.set_option('future.no_silent_downcasting', True)`\n",
      "  ] = merged_df.loc[\n",
      "C:\\Users\\nuwai\\AppData\\Local\\Temp\\ipykernel_17728\\2642625223.py:33: FutureWarning: Downcasting object dtype arrays on .fillna, .ffill, .bfill is deprecated and will change in a future version. Call result.infer_objects(copy=False) instead. To opt-in to the future behavior, set `pd.set_option('future.no_silent_downcasting', True)`\n",
      "  ] = merged_df.loc[\n",
      "C:\\Users\\nuwai\\AppData\\Local\\Temp\\ipykernel_17728\\2642625223.py:33: FutureWarning: Downcasting object dtype arrays on .fillna, .ffill, .bfill is deprecated and will change in a future version. Call result.infer_objects(copy=False) instead. To opt-in to the future behavior, set `pd.set_option('future.no_silent_downcasting', True)`\n",
      "  ] = merged_df.loc[\n",
      "C:\\Users\\nuwai\\AppData\\Local\\Temp\\ipykernel_17728\\2642625223.py:33: FutureWarning: Downcasting object dtype arrays on .fillna, .ffill, .bfill is deprecated and will change in a future version. Call result.infer_objects(copy=False) instead. To opt-in to the future behavior, set `pd.set_option('future.no_silent_downcasting', True)`\n",
      "  ] = merged_df.loc[\n",
      "C:\\Users\\nuwai\\AppData\\Local\\Temp\\ipykernel_17728\\2642625223.py:33: FutureWarning: Downcasting object dtype arrays on .fillna, .ffill, .bfill is deprecated and will change in a future version. Call result.infer_objects(copy=False) instead. To opt-in to the future behavior, set `pd.set_option('future.no_silent_downcasting', True)`\n",
      "  ] = merged_df.loc[\n",
      "C:\\Users\\nuwai\\AppData\\Local\\Temp\\ipykernel_17728\\2642625223.py:33: FutureWarning: Downcasting object dtype arrays on .fillna, .ffill, .bfill is deprecated and will change in a future version. Call result.infer_objects(copy=False) instead. To opt-in to the future behavior, set `pd.set_option('future.no_silent_downcasting', True)`\n",
      "  ] = merged_df.loc[\n",
      "C:\\Users\\nuwai\\AppData\\Local\\Temp\\ipykernel_17728\\2642625223.py:33: FutureWarning: Downcasting object dtype arrays on .fillna, .ffill, .bfill is deprecated and will change in a future version. Call result.infer_objects(copy=False) instead. To opt-in to the future behavior, set `pd.set_option('future.no_silent_downcasting', True)`\n",
      "  ] = merged_df.loc[\n",
      "C:\\Users\\nuwai\\AppData\\Local\\Temp\\ipykernel_17728\\2642625223.py:33: FutureWarning: Downcasting object dtype arrays on .fillna, .ffill, .bfill is deprecated and will change in a future version. Call result.infer_objects(copy=False) instead. To opt-in to the future behavior, set `pd.set_option('future.no_silent_downcasting', True)`\n",
      "  ] = merged_df.loc[\n",
      "C:\\Users\\nuwai\\AppData\\Local\\Temp\\ipykernel_17728\\2642625223.py:33: FutureWarning: Downcasting object dtype arrays on .fillna, .ffill, .bfill is deprecated and will change in a future version. Call result.infer_objects(copy=False) instead. To opt-in to the future behavior, set `pd.set_option('future.no_silent_downcasting', True)`\n",
      "  ] = merged_df.loc[\n"
     ]
    },
    {
     "name": "stdout",
     "output_type": "stream",
     "text": [
      "Missing values in 'IPU Membership': 0\n",
      "Missing values in 'Population in thousands': 0\n",
      "Missing values in 'Political System': 0\n",
      "Missing values in 'Transitional Status': 584\n",
      "Missing values in 'Gender Equality': 584\n",
      "Missing values in 'Themes': 584\n",
      "Missing values in 'Gender Quota': 584\n",
      "Missing values in 'Suspended Parliament': 0\n"
     ]
    },
    {
     "name": "stderr",
     "output_type": "stream",
     "text": [
      "C:\\Users\\nuwai\\AppData\\Local\\Temp\\ipykernel_17728\\2642625223.py:33: FutureWarning: Downcasting object dtype arrays on .fillna, .ffill, .bfill is deprecated and will change in a future version. Call result.infer_objects(copy=False) instead. To opt-in to the future behavior, set `pd.set_option('future.no_silent_downcasting', True)`\n",
      "  ] = merged_df.loc[\n",
      "C:\\Users\\nuwai\\AppData\\Local\\Temp\\ipykernel_17728\\2642625223.py:33: FutureWarning: Downcasting object dtype arrays on .fillna, .ffill, .bfill is deprecated and will change in a future version. Call result.infer_objects(copy=False) instead. To opt-in to the future behavior, set `pd.set_option('future.no_silent_downcasting', True)`\n",
      "  ] = merged_df.loc[\n",
      "C:\\Users\\nuwai\\AppData\\Local\\Temp\\ipykernel_17728\\2642625223.py:33: FutureWarning: Downcasting object dtype arrays on .fillna, .ffill, .bfill is deprecated and will change in a future version. Call result.infer_objects(copy=False) instead. To opt-in to the future behavior, set `pd.set_option('future.no_silent_downcasting', True)`\n",
      "  ] = merged_df.loc[\n",
      "C:\\Users\\nuwai\\AppData\\Local\\Temp\\ipykernel_17728\\2642625223.py:33: FutureWarning: Downcasting object dtype arrays on .fillna, .ffill, .bfill is deprecated and will change in a future version. Call result.infer_objects(copy=False) instead. To opt-in to the future behavior, set `pd.set_option('future.no_silent_downcasting', True)`\n",
      "  ] = merged_df.loc[\n",
      "C:\\Users\\nuwai\\AppData\\Local\\Temp\\ipykernel_17728\\2642625223.py:33: FutureWarning: Downcasting object dtype arrays on .fillna, .ffill, .bfill is deprecated and will change in a future version. Call result.infer_objects(copy=False) instead. To opt-in to the future behavior, set `pd.set_option('future.no_silent_downcasting', True)`\n",
      "  ] = merged_df.loc[\n",
      "C:\\Users\\nuwai\\AppData\\Local\\Temp\\ipykernel_17728\\2642625223.py:33: FutureWarning: Downcasting object dtype arrays on .fillna, .ffill, .bfill is deprecated and will change in a future version. Call result.infer_objects(copy=False) instead. To opt-in to the future behavior, set `pd.set_option('future.no_silent_downcasting', True)`\n",
      "  ] = merged_df.loc[\n",
      "C:\\Users\\nuwai\\AppData\\Local\\Temp\\ipykernel_17728\\2642625223.py:33: FutureWarning: Downcasting object dtype arrays on .fillna, .ffill, .bfill is deprecated and will change in a future version. Call result.infer_objects(copy=False) instead. To opt-in to the future behavior, set `pd.set_option('future.no_silent_downcasting', True)`\n",
      "  ] = merged_df.loc[\n",
      "C:\\Users\\nuwai\\AppData\\Local\\Temp\\ipykernel_17728\\2642625223.py:33: FutureWarning: Downcasting object dtype arrays on .fillna, .ffill, .bfill is deprecated and will change in a future version. Call result.infer_objects(copy=False) instead. To opt-in to the future behavior, set `pd.set_option('future.no_silent_downcasting', True)`\n",
      "  ] = merged_df.loc[\n",
      "C:\\Users\\nuwai\\AppData\\Local\\Temp\\ipykernel_17728\\2642625223.py:33: FutureWarning: Downcasting object dtype arrays on .fillna, .ffill, .bfill is deprecated and will change in a future version. Call result.infer_objects(copy=False) instead. To opt-in to the future behavior, set `pd.set_option('future.no_silent_downcasting', True)`\n",
      "  ] = merged_df.loc[\n",
      "C:\\Users\\nuwai\\AppData\\Local\\Temp\\ipykernel_17728\\2642625223.py:33: FutureWarning: Downcasting object dtype arrays on .fillna, .ffill, .bfill is deprecated and will change in a future version. Call result.infer_objects(copy=False) instead. To opt-in to the future behavior, set `pd.set_option('future.no_silent_downcasting', True)`\n",
      "  ] = merged_df.loc[\n"
     ]
    }
   ],
   "source": [
    "#fill the remaining missing value for the remainig\n",
    "columns_to_fill = ['IPU Membership','Population in thousands','Political System','Transitional Status','Gender Equality',\n",
    "                   'Themes', 'Gender Quota','Suspended Parliament']\n",
    "merged_df = fillna_with_mode(columns_to_fill=columns_to_fill, merged_df=merged_df)\n",
    "\n",
    "# Check the number of missing values for each column after filling\n",
    "for col in columns_to_fill:\n",
    "    print(f\"Missing values in '{col}': {merged_df[col].isna().sum()}\")"
   ]
  },
  {
   "cell_type": "code",
   "execution_count": 24,
   "metadata": {},
   "outputs": [
    {
     "name": "stdout",
     "output_type": "stream",
     "text": [
      "missing data for Gender Equality\n",
      "['Venezuela (Bolivarian Republic of)' 'Eritrea' 'Saint Lucia'\n",
      " 'Guinea-Bissau' 'Saint Kitts and Nevis' 'Antigua and Barbuda'\n",
      " 'Brunei Darussalam' 'Yemen']\n",
      "missing data for Transitional Status\n",
      "['Venezuela (Bolivarian Republic of)' 'Eritrea' 'Saint Lucia'\n",
      " 'Guinea-Bissau' 'Saint Kitts and Nevis' 'Antigua and Barbuda'\n",
      " 'Brunei Darussalam' 'Yemen']\n",
      "missing data for Themes\n",
      "['Venezuela (Bolivarian Republic of)' 'Eritrea' 'Saint Lucia'\n",
      " 'Guinea-Bissau' 'Saint Kitts and Nevis' 'Antigua and Barbuda'\n",
      " 'Brunei Darussalam' 'Yemen']\n",
      "missing data for Gender Quota\n",
      "['Venezuela (Bolivarian Republic of)' 'Eritrea' 'Saint Lucia'\n",
      " 'Guinea-Bissau' 'Saint Kitts and Nevis' 'Antigua and Barbuda'\n",
      " 'Brunei Darussalam' 'Yemen']\n"
     ]
    }
   ],
   "source": [
    "# Filter rows where \"Structure of Parliament\" is NaN and print the relevant columns\n",
    "for col in [\"Gender Equality\", \"Transitional Status\",\"Themes\",\"Gender Quota\"]:\n",
    "    missing_data = merged_df[merged_df[col].isna()]\n",
    "    print(f\"missing data for {col}\")\n",
    "    print(missing_data[\"Country\"].unique())\n",
    "\n",
    "#These countries do not have the data for this 4 columns"
   ]
  },
  {
   "cell_type": "code",
   "execution_count": 25,
   "metadata": {},
   "outputs": [
    {
     "data": {
      "text/plain": [
       "Year                          0\n",
       "Month                         0\n",
       "Country                       0\n",
       "Country Code                  0\n",
       "Region                        0\n",
       "Subregion                     0\n",
       "Lower Total Seat            329\n",
       "Lower Total Women           331\n",
       "Lower Chamber Women (%)     331\n",
       "Upper Total Seat           8334\n",
       "Upper Total Women          8334\n",
       "Upper Chamber Women (%)    8334\n",
       "Rank                        331\n",
       "Suspended Parliament          0\n",
       "Structure of Parliament       0\n",
       "IPU Membership                0\n",
       "Population in thousands       0\n",
       "Political System              0\n",
       "Transitional Status         584\n",
       "Gender Equality             584\n",
       "Themes                      584\n",
       "Gender Quota                584\n",
       "dtype: int64"
      ]
     },
     "execution_count": 25,
     "metadata": {},
     "output_type": "execute_result"
    }
   ],
   "source": [
    "merged_df.isna().sum()"
   ]
  },
  {
   "cell_type": "code",
   "execution_count": 26,
   "metadata": {},
   "outputs": [
    {
     "name": "stdout",
     "output_type": "stream",
     "text": [
      "Bicameral countries with missing Upper Chamber data:\n",
      "['Thailand' 'Sudan' 'Egypt' 'Turkmenistan' 'Afghanistan' 'Myanmar' 'Haiti'\n",
      " 'Tunisia']\n"
     ]
    }
   ],
   "source": [
    "#check which bicmeral countries have missing data for upper chamber\n",
    "# Filter bicameral countries with missing Upper Chamber Women (%) data\n",
    "bicameral_missing = merged_df[\n",
    "    (merged_df['Structure of Parliament'] == 'bicameral') &\n",
    "    (merged_df['Upper Chamber Women (%)'].isna())]\n",
    "\n",
    "bicameral_upper_missing_data= bicameral_missing['Country'].unique()\n",
    "\n",
    "print(\"Bicameral countries with missing Upper Chamber data:\")\n",
    "print(bicameral_upper_missing_data)"
   ]
  },
  {
   "cell_type": "code",
   "execution_count": 27,
   "metadata": {},
   "outputs": [
    {
     "name": "stdout",
     "output_type": "stream",
     "text": [
      "Bicameral countries with missing lower Chamber data:\n",
      "['Sudan' 'Haiti' 'Afghanistan' 'Myanmar' 'Gabon']\n"
     ]
    }
   ],
   "source": [
    "#check which bicmeral countries have missing data for lower chamber\n",
    "# Filter bicameral countries with missing Upper Chamber Women (%) data\n",
    "bicameral_missing_lower = merged_df[\n",
    "    (merged_df['Structure of Parliament'] == 'bicameral') &\n",
    "    (merged_df['Lower Chamber Women (%)'].isna())]\n",
    "\n",
    "bicamerl_lower_missing_data = bicameral_missing_lower['Country'].unique()\n",
    "\n",
    "print(\"Bicameral countries with missing lower Chamber data:\")\n",
    "print(bicamerl_lower_missing_data)"
   ]
  },
  {
   "cell_type": "code",
   "execution_count": 28,
   "metadata": {},
   "outputs": [
    {
     "name": "stdout",
     "output_type": "stream",
     "text": [
      "unicameral countries with missing lower Chamber data:\n",
      "['Eritrea' 'Guinea' 'Venezuela (Bolivarian Republic of)' 'Tunisia' 'Niger'\n",
      " 'Kuwait' 'Bangladesh']\n"
     ]
    }
   ],
   "source": [
    "#check which unicmeral countries have missing data for lower chamber\n",
    "# Filter unicameral countries with missing Upper Chamber Women (%) data\n",
    "unicameral_missing_lower = merged_df[\n",
    "    (merged_df['Structure of Parliament'] == 'unicameral') &\n",
    "    (merged_df['Lower Chamber Women (%)'].isna())]\n",
    "\n",
    "unicameral_lower_missing_data = unicameral_missing_lower['Country'].unique()\n",
    "\n",
    "print(\"unicameral countries with missing lower Chamber data:\")\n",
    "print(unicameral_lower_missing_data)"
   ]
  },
  {
   "cell_type": "code",
   "execution_count": 29,
   "metadata": {},
   "outputs": [
    {
     "name": "stdout",
     "output_type": "stream",
     "text": [
      "unicameral countries with missing lower Chamber data:\n",
      "['Cuba' 'Sweden' 'Costa Rica' 'Nicaragua' 'Senegal' 'Finland' 'Norway'\n",
      " 'New Zealand' 'Mozambique' 'North Macedonia' 'Iceland' 'Ecuador' 'Serbia'\n",
      " 'Denmark' 'United Republic of Tanzania' 'Tunisia' 'Portugal' 'Uganda'\n",
      " 'Timor-Leste' 'Monaco' 'Andorra' 'Guyana' 'El Salvador' 'Latvia' 'Angola'\n",
      " 'Peru' 'Suriname' 'Albania' 'Israel' 'Estonia'\n",
      " \"Lao People's Democratic Republic\" 'Viet Nam' 'Djibouti' 'Bulgaria'\n",
      " 'Iraq' 'Dominica' 'Luxembourg' 'San Marino' 'Turkmenistan' 'China'\n",
      " 'Armenia' 'Cabo Verde' 'Montenegro' 'Singapore' 'Guinea'\n",
      " 'Republic of Moldova' 'United Arab Emirates'\n",
      " 'Venezuela (Bolivarian Republic of)' 'Eritrea' 'Lithuania' 'Seychelles'\n",
      " 'Honduras' 'Bangladesh' 'Croatia' 'Mauritania' 'Slovakia' 'Saudi Arabia'\n",
      " 'Fiji' 'Kyrgyzstan' 'Guatemala' 'Greece' 'Panama' 'Indonesia' 'Zambia'\n",
      " 'Cyprus' 'Türkiye' 'Mongolia' 'Republic of Korea' 'Niger' 'Azerbaijan'\n",
      " 'Malawi' 'Togo' \"Democratic People's Republic of Korea\" 'Libya' 'Chad'\n",
      " 'Egypt' 'Malta' 'Georgia' 'Sao Tome and Principe' 'Guinea-Bissau'\n",
      " 'Burkina Faso' 'Saint Kitts and Nevis' 'Syrian Arab Republic' 'Ghana'\n",
      " 'Saint Vincent and the Grenadines' 'Hungary' 'Sierra Leone'\n",
      " 'Liechtenstein' 'Mauritius' 'Ukraine' 'Nauru' 'Gambia (The)' 'Samoa'\n",
      " 'Qatar' 'Botswana' 'Brunei Darussalam' 'Marshall Islands' 'Mali'\n",
      " 'Central African Republic' 'Tonga' 'Benin' 'Tuvalu' 'Kiribati' 'Comoros'\n",
      " 'Iran (Islamic Republic of)' 'Thailand' 'Sri Lanka' 'Lebanon' 'Maldives'\n",
      " 'Kuwait' 'Solomon Islands' 'Micronesia (Federated States of)'\n",
      " 'Papua New Guinea' 'Vanuatu']\n"
     ]
    }
   ],
   "source": [
    "#check which unicmeral countries have missing data for upper chamber\n",
    "# Filter unicameral countries with missing Upper Chamber Women (%) data\n",
    "unicameral_missing_upper = merged_df[\n",
    "    (merged_df['Structure of Parliament'] == 'unicameral') &\n",
    "    (merged_df['Upper Chamber Women (%)'].isna())]\n",
    "\n",
    "unicameral_upper_missing_data = unicameral_missing_upper['Country'].unique()\n",
    "\n",
    "print(\"unicameral countries with missing lower Chamber data:\")\n",
    "print(unicameral_upper_missing_data)"
   ]
  },
  {
   "cell_type": "code",
   "execution_count": 30,
   "metadata": {},
   "outputs": [
    {
     "name": "stdout",
     "output_type": "stream",
     "text": [
      "Missing values in 'Lower Total Seat': 0\n",
      "Missing values in 'Lower Total Women': 0\n",
      "Missing values in 'Lower Chamber Women (%)': 0\n"
     ]
    }
   ],
   "source": [
    "#fill the missing value for lower chamber data for both unicameral and bicameral since all countries should have lower data\n",
    "columns_to_fill = ['Lower Total Seat','Lower Total Women', 'Lower Chamber Women (%)']\n",
    "merged_df = fillna_with_mode(columns_to_fill=columns_to_fill, merged_df=merged_df)\n",
    "\n",
    "# Check the number of missing values for each column after filling\n",
    "for col in columns_to_fill:\n",
    "    print(f\"Missing values in '{col}': {merged_df[col].isna().sum()}\")"
   ]
  },
  {
   "cell_type": "code",
   "execution_count": 31,
   "metadata": {},
   "outputs": [
    {
     "name": "stdout",
     "output_type": "stream",
     "text": [
      "Missing values in 'Upper Total Seat': 8030\n",
      "Missing values in 'Upper Total Women': 8030\n",
      "Missing values in 'Upper Chamber Women (%)': 8030\n"
     ]
    },
    {
     "name": "stderr",
     "output_type": "stream",
     "text": [
      "C:\\Users\\nuwai\\AppData\\Local\\Temp\\ipykernel_17728\\2642625223.py:12: SettingWithCopyWarning: \n",
      "A value is trying to be set on a copy of a slice from a DataFrame.\n",
      "Try using .loc[row_indexer,col_indexer] = value instead\n",
      "\n",
      "See the caveats in the documentation: https://pandas.pydata.org/pandas-docs/stable/user_guide/indexing.html#returning-a-view-versus-a-copy\n",
      "  merged_df[col] = (\n",
      "C:\\Users\\nuwai\\AppData\\Local\\Temp\\ipykernel_17728\\2642625223.py:12: SettingWithCopyWarning: \n",
      "A value is trying to be set on a copy of a slice from a DataFrame.\n",
      "Try using .loc[row_indexer,col_indexer] = value instead\n",
      "\n",
      "See the caveats in the documentation: https://pandas.pydata.org/pandas-docs/stable/user_guide/indexing.html#returning-a-view-versus-a-copy\n",
      "  merged_df[col] = (\n",
      "C:\\Users\\nuwai\\AppData\\Local\\Temp\\ipykernel_17728\\2642625223.py:12: SettingWithCopyWarning: \n",
      "A value is trying to be set on a copy of a slice from a DataFrame.\n",
      "Try using .loc[row_indexer,col_indexer] = value instead\n",
      "\n",
      "See the caveats in the documentation: https://pandas.pydata.org/pandas-docs/stable/user_guide/indexing.html#returning-a-view-versus-a-copy\n",
      "  merged_df[col] = (\n"
     ]
    }
   ],
   "source": [
    "\"\"\"\n",
    "For unicameral country ,there should not have upper data, so fill with 0\n",
    "0  represents \"no upper chamber\" rather than true missingness\n",
    "\n",
    "For bicameral country, fill missing upper data with respective year,month data \n",
    "\"\"\"\n",
    "# Step 1: Filter merged_df to only include rows for the bicameral countries in the list\n",
    "filtered_df = merged_df[merged_df['Country'].isin(bicameral_upper_missing_data)]\n",
    "\n",
    "# Step 2: Apply the fillna_with_mode function for the desired columns\n",
    "columns_to_fill = ['Upper Total Seat','Upper Total Women','Upper Chamber Women (%)']\n",
    "\n",
    "# Apply the function to the filtered dataframe\n",
    "filtered_df = fillna_with_mode(columns_to_fill=columns_to_fill, merged_df=filtered_df)\n",
    "\n",
    "# Step 3: Update the original merged_df with the filled data from filtered_df\n",
    "merged_df.update(filtered_df)\n",
    "\n",
    "# Verify the missing values are filled\n",
    "for col in columns_to_fill:\n",
    "    print(f\"Missing values in '{col}': {merged_df[col].isna().sum()}\")"
   ]
  },
  {
   "cell_type": "code",
   "execution_count": 32,
   "metadata": {},
   "outputs": [
    {
     "name": "stdout",
     "output_type": "stream",
     "text": [
      "Upper Total Seat           0\n",
      "Upper Total Women          0\n",
      "Upper Chamber Women (%)    0\n",
      "dtype: int64\n"
     ]
    },
    {
     "name": "stderr",
     "output_type": "stream",
     "text": [
      "C:\\Users\\nuwai\\AppData\\Local\\Temp\\ipykernel_17728\\2471876848.py:3: SettingWithCopyWarning: \n",
      "A value is trying to be set on a copy of a slice from a DataFrame.\n",
      "Try using .loc[row_indexer,col_indexer] = value instead\n",
      "\n",
      "See the caveats in the documentation: https://pandas.pydata.org/pandas-docs/stable/user_guide/indexing.html#returning-a-view-versus-a-copy\n",
      "  filtered_df_uni[columns_to_fill] = filtered_df_uni[columns_to_fill].fillna(0)  # fill with 0 for unicamer countries\n"
     ]
    }
   ],
   "source": [
    "filtered_df_uni = merged_df[merged_df['Country'].isin(unicameral_upper_missing_data)]\n",
    "columns_to_fill = ['Upper Total Seat','Upper Total Women','Upper Chamber Women (%)']\n",
    "filtered_df_uni[columns_to_fill] = filtered_df_uni[columns_to_fill].fillna(0)  # fill with 0 for unicamer countries\n",
    "\n",
    "# Step 3: Update the original DataFrame with both filled data\n",
    "merged_df.update(filtered_df_uni)\n",
    "\n",
    "# Verify\n",
    "print(merged_df[columns_to_fill].isna().sum())  "
   ]
  },
  {
   "cell_type": "code",
   "execution_count": 33,
   "metadata": {},
   "outputs": [
    {
     "data": {
      "text/plain": [
       "Year                         0\n",
       "Month                        0\n",
       "Country                      0\n",
       "Country Code                 0\n",
       "Region                       0\n",
       "Subregion                    0\n",
       "Lower Total Seat             0\n",
       "Lower Total Women            0\n",
       "Lower Chamber Women (%)      0\n",
       "Upper Total Seat             0\n",
       "Upper Total Women            0\n",
       "Upper Chamber Women (%)      0\n",
       "Rank                       331\n",
       "Suspended Parliament         0\n",
       "Structure of Parliament      0\n",
       "IPU Membership               0\n",
       "Population in thousands      0\n",
       "Political System             0\n",
       "Transitional Status        584\n",
       "Gender Equality            584\n",
       "Themes                     584\n",
       "Gender Quota               584\n",
       "dtype: int64"
      ]
     },
     "execution_count": 33,
     "metadata": {},
     "output_type": "execute_result"
    }
   ],
   "source": [
    "merged_df.isna().sum()"
   ]
  },
  {
   "cell_type": "code",
   "execution_count": 34,
   "metadata": {},
   "outputs": [
    {
     "data": {
      "text/plain": [
       "\"\\nOriginal Rank is calculated based on lower chamber calculated as percentage: Lower Total Women / Lower Total Seat\\nIt could lead to skewed analysis and biases between unicameral vs bicameral system and large and small countries\\n\\nso, we would like to derived a new feature called 'upper and lower chamer rank' that rank more balancely\\nUsing a weighted percentage rank approach makes more sense to balance the representation metric across countries\\n with different parliamentary sizes and population levels\\n\""
      ]
     },
     "execution_count": 34,
     "metadata": {},
     "output_type": "execute_result"
    }
   ],
   "source": [
    "\"\"\"\n",
    "Original Rank is calculated based on lower chamber calculated as percentage: Lower Total Women / Lower Total Seat\n",
    "It could lead to skewed analysis and biases between unicameral vs bicameral system and large and small countries\n",
    "\n",
    "so, we would like to derived a new feature called 'upper and lower chamer rank' that rank more balancely\n",
    "Using a weighted percentage rank approach makes more sense to balance the representation metric across countries\n",
    " with different parliamentary sizes and population levels\n",
    "\"\"\"\n",
    "\n",
    "# # Step 1: Calculate Population Weight\n",
    "# merged_df['Population_Weight'] = merged_df['Population in thousands'] / merged_df['Population in thousands'].sum()\n",
    "\n",
    "# # Step 2: Calculate Weighted Metrics for lower and upper separately\n",
    "# merged_df['Weighted_Lower_Metric'] = (merged_df['Lower Total Women'] / merged_df['Lower Total Seat']) * merged_df['Population_Weight']\n",
    "# merged_df['Weighted_Upper_Metric'] = (merged_df['Upper Total Women'] / merged_df['Upper Total Seat']) * merged_df['Population_Weight']\n",
    "\n",
    "# # Step 3: Rank all countries based on the lower chamber using the weighted metric\n",
    "# merged_df['Weighted_Lower_Rank'] = merged_df.groupby(['Year', 'Month'])['Weighted_Lower_Metric'].rank(ascending=False, method='dense')\n",
    "\n",
    "# # Step 4: Rank only bicameral countries based on the upper chamber using the weighted metric\n",
    "# merged_df['Weighted_Upper_Rank'] = merged_df[merged_df['Structure of Parliament'] == 'bicameral'] \\\n",
    "#     .groupby(['Year', 'Month'])['Weighted_Upper_Metric'] \\\n",
    "#     .rank(ascending=False, method='dense')\n",
    "\n",
    "# # Step 5: Check results\n",
    "# bicameral_ranking = merged_df[merged_df['Structure of Parliament'] == 'bicameral'][['Country', 'Year', 'Month','Rank', 'Weighted_Upper_Rank']]\n",
    "# unicameral_ranking = merged_df[merged_df['Structure of Parliament'] == 'unicameral'][['Country', 'Year', 'Month', 'Rank','Weighted_Lower_Rank']]\n",
    "\n",
    "# # View bicameral and unicameral rankings\n",
    "# print(bicameral_ranking.head())\n",
    "# print(unicameral_ranking.head())"
   ]
  },
  {
   "cell_type": "code",
   "execution_count": 36,
   "metadata": {},
   "outputs": [
    {
     "name": "stdout",
     "output_type": "stream",
     "text": [
      "                            Country  Year  Month  Rank  \\\n",
      "0                            Rwanda  2019      1   1.0   \n",
      "2  Bolivia (Plurinational State of)  2019      1   3.0   \n",
      "3                            Mexico  2019      1   4.0   \n",
      "5                           Grenada  2019      1   6.0   \n",
      "6                           Namibia  2019      1   7.0   \n",
      "\n",
      "   Weighted_Bicameral_Rank  \n",
      "0                     30.0  \n",
      "2                     34.0  \n",
      "3                      3.0  \n",
      "5                     76.0  \n",
      "6                     56.0  \n",
      "       Country  Year  Month  Rank  Weighted_Lower_Rank\n",
      "1         Cuba  2019      1   2.0                 48.0\n",
      "4       Sweden  2019      1   5.0                 58.0\n",
      "7   Costa Rica  2019      1   8.0                 89.0\n",
      "8    Nicaragua  2019      1   9.0                 81.0\n",
      "10     Senegal  2019      1  11.0                 46.0\n"
     ]
    }
   ],
   "source": [
    "# Step 1: Calculate Population Weight (already correct)\n",
    "merged_df['Population_Weight'] = merged_df['Population in thousands'] / merged_df['Population in thousands'].sum()\n",
    "\n",
    "# Step 2: Calculate Weighted Metrics for lower and upper chambers\n",
    "merged_df['Weighted_Lower_Metric'] = (merged_df['Lower Total Women'] / merged_df['Lower Total Seat']) * merged_df['Population_Weight']\n",
    "merged_df['Weighted_Upper_Metric'] = (merged_df['Upper Total Women'] / merged_df['Upper Total Seat']) * merged_df['Population_Weight']\n",
    "\n",
    "# Step 3: Create a Combined Metric for Bicameral Countries (Lower + Upper)\n",
    "merged_df['Weighted_Bicameral_Metric'] = merged_df.apply(\n",
    "    lambda row: row['Weighted_Lower_Metric'] + row['Weighted_Upper_Metric'] \n",
    "    if row['Structure of Parliament'] == 'bicameral' else row['Weighted_Lower_Metric'], axis=1\n",
    ")\n",
    "\n",
    "# Step 4: Rank All Countries Based on Lower Chamber (for unicameral and bicameral)\n",
    "merged_df['Weighted_Lower_Rank'] = merged_df.groupby(['Year', 'Month'])['Weighted_Lower_Metric'].rank(ascending=False, method='dense')\n",
    "\n",
    "# Step 5: Rank Only Bicameral Countries Based on Combined Metric\n",
    "merged_df['Weighted_Bicameral_Rank'] = merged_df[merged_df['Structure of Parliament'] == 'bicameral'] \\\n",
    "    .groupby(['Year', 'Month'])['Weighted_Bicameral_Metric'] \\\n",
    "    .rank(ascending=False, method='dense')\n",
    "\n",
    "# Step 5: Check results\n",
    "bicameral_ranking = merged_df[merged_df['Structure of Parliament'] == 'bicameral'][['Country', 'Year', 'Month','Rank', 'Weighted_Bicameral_Rank']]\n",
    "unicameral_ranking = merged_df[merged_df['Structure of Parliament'] == 'unicameral'][['Country', 'Year', 'Month', 'Rank','Weighted_Lower_Rank']]\n",
    "\n",
    "# View bicameral and unicameral rankings\n",
    "print(bicameral_ranking.head())\n",
    "print(unicameral_ranking.head())"
   ]
  },
  {
   "cell_type": "code",
   "execution_count": 37,
   "metadata": {},
   "outputs": [
    {
     "data": {
      "text/plain": [
       "Year                            0\n",
       "Month                           0\n",
       "Country                         0\n",
       "Country Code                    0\n",
       "Region                          0\n",
       "Subregion                       0\n",
       "Lower Total Seat                0\n",
       "Lower Total Women               0\n",
       "Lower Chamber Women (%)         0\n",
       "Upper Total Seat                0\n",
       "Upper Total Women               0\n",
       "Upper Chamber Women (%)         0\n",
       "Rank                          331\n",
       "Suspended Parliament            0\n",
       "Structure of Parliament         0\n",
       "IPU Membership                  0\n",
       "Population in thousands         0\n",
       "Political System                0\n",
       "Transitional Status           584\n",
       "Gender Equality               584\n",
       "Themes                        584\n",
       "Gender Quota                  584\n",
       "Population_Weight               0\n",
       "Weighted_Lower_Metric           0\n",
       "Weighted_Upper_Metric        8030\n",
       "Weighted_Bicameral_Metric       0\n",
       "Weighted_Lower_Rank             0\n",
       "Weighted_Bicameral_Rank      8167\n",
       "dtype: int64"
      ]
     },
     "execution_count": 37,
     "metadata": {},
     "output_type": "execute_result"
    }
   ],
   "source": [
    "merged_df.isna().sum()"
   ]
  },
  {
   "cell_type": "code",
   "execution_count": 36,
   "metadata": {},
   "outputs": [],
   "source": [
    "#merged_df.to_csv(\"temp.csv\")"
   ]
  },
  {
   "cell_type": "code",
   "execution_count": 38,
   "metadata": {},
   "outputs": [
    {
     "name": "stdout",
     "output_type": "stream",
     "text": [
      "Index(['Year', 'Month', 'Country', 'Country Code', 'Region', 'Subregion',\n",
      "       'Lower Total Seat', 'Lower Total Women', 'Lower Chamber Women (%)',\n",
      "       'Upper Total Seat', 'Upper Total Women', 'Upper Chamber Women (%)',\n",
      "       'Rank', 'Suspended Parliament', 'Structure of Parliament',\n",
      "       'IPU Membership', 'Population in thousands', 'Political System',\n",
      "       'Transitional Status', 'Gender Equality', 'Themes', 'Gender Quota',\n",
      "       'Population_Weight', 'Weighted_Lower_Metric', 'Weighted_Upper_Metric',\n",
      "       'Weighted_Bicameral_Metric', 'Weighted_Lower_Rank',\n",
      "       'Weighted_Bicameral_Rank'],\n",
      "      dtype='object')\n"
     ]
    }
   ],
   "source": [
    "print(merged_df.columns)"
   ]
  },
  {
   "cell_type": "code",
   "execution_count": 39,
   "metadata": {},
   "outputs": [],
   "source": [
    "merged_df.to_csv(\"cleaned_women_parliament_data.csv\")"
   ]
  },
  {
   "cell_type": "code",
   "execution_count": 40,
   "metadata": {},
   "outputs": [
    {
     "name": "stdout",
     "output_type": "stream",
     "text": [
      "total number of countires in this dataset is 193\n"
     ]
    }
   ],
   "source": [
    "total_number_country = len(list(merged_df['Country'].unique()))\n",
    "print(f\"total number of countires in this dataset is {total_number_country}\")"
   ]
  },
  {
   "cell_type": "code",
   "execution_count": 41,
   "metadata": {},
   "outputs": [
    {
     "data": {
      "text/plain": [
       "Structure of Parliament\n",
       "unicameral                 8167\n",
       "bicameral                  5922\n",
       "Name: count, dtype: int64"
      ]
     },
     "execution_count": 41,
     "metadata": {},
     "output_type": "execute_result"
    }
   ],
   "source": [
    "merged_df[['Structure of Parliament']].value_counts()"
   ]
  },
  {
   "cell_type": "code",
   "execution_count": 42,
   "metadata": {},
   "outputs": [
    {
     "name": "stdout",
     "output_type": "stream",
     "text": [
      "6\n"
     ]
    },
    {
     "data": {
      "text/plain": [
       "Region\n",
       "europe                          3504\n",
       "sub_saharan_africa              3431\n",
       "americas                        2555\n",
       "asia                            2190\n",
       "middle_east_and_north_africa    1387\n",
       "pacific                         1022\n",
       "Name: count, dtype: int64"
      ]
     },
     "execution_count": 42,
     "metadata": {},
     "output_type": "execute_result"
    }
   ],
   "source": [
    "print(len(merged_df['Region'].value_counts().index))\n",
    "merged_df['Region'].value_counts()"
   ]
  },
  {
   "cell_type": "code",
   "execution_count": 43,
   "metadata": {},
   "outputs": [
    {
     "name": "stdout",
     "output_type": "stream",
     "text": [
      "20\n"
     ]
    },
    {
     "data": {
      "text/plain": [
       "Subregion\n",
       "central_and_eastern_europe    1679\n",
       "west_africa                   1095\n",
       "middle_east                    949\n",
       "caribbean                      949\n",
       "southern_africa                949\n",
       "western_europe                 876\n",
       "pacific_islands                876\n",
       "south_america                  876\n",
       "south_east_asia                803\n",
       "central_africa                 730\n",
       "east_africa                    657\n",
       "south_asia                     657\n",
       "southern_europe                584\n",
       "central_america                511\n",
       "north_africa                   438\n",
       "nordic_countries               365\n",
       "central_asia                   365\n",
       "east_asia                      365\n",
       "north_america                  219\n",
       "australia_and_new_zealand      146\n",
       "Name: count, dtype: int64"
      ]
     },
     "execution_count": 43,
     "metadata": {},
     "output_type": "execute_result"
    }
   ],
   "source": [
    "print(len(merged_df['Subregion'].value_counts().index))\n",
    "merged_df['Subregion'].value_counts()"
   ]
  },
  {
   "cell_type": "code",
   "execution_count": 44,
   "metadata": {},
   "outputs": [
    {
     "name": "stdout",
     "output_type": "stream",
     "text": [
      "6\n"
     ]
    },
    {
     "data": {
      "text/plain": [
       "Political System\n",
       "parliamentary_system          5554\n",
       "presidential_system           3364\n",
       "presidential_parliamentary    3337\n",
       "monarchy                       876\n",
       "transitional_system            593\n",
       "communist_system               365\n",
       "Name: count, dtype: int64"
      ]
     },
     "execution_count": 44,
     "metadata": {},
     "output_type": "execute_result"
    }
   ],
   "source": [
    "print(len(merged_df['Political System'].value_counts().index))\n",
    "merged_df['Political System'].value_counts()"
   ]
  }
 ],
 "metadata": {
  "kernelspec": {
   "display_name": "Python 3",
   "language": "python",
   "name": "python3"
  },
  "language_info": {
   "codemirror_mode": {
    "name": "ipython",
    "version": 3
   },
   "file_extension": ".py",
   "mimetype": "text/x-python",
   "name": "python",
   "nbconvert_exporter": "python",
   "pygments_lexer": "ipython3",
   "version": "3.9.0"
  }
 },
 "nbformat": 4,
 "nbformat_minor": 2
}
